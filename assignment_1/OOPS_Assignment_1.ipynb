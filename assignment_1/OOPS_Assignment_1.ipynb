{
 "cells": [
  {
   "cell_type": "code",
   "execution_count": 2,
   "id": "e56cea19-6d5c-4938-b918-8765d3bee83a",
   "metadata": {},
   "outputs": [],
   "source": [
    "# Q1. Explain Class and Object with respect to Object-Oriented Programming. Give a suitable example.\n",
    "\n",
    "\"\"\"\n",
    "Class is a blueprint and structure in which we can create multiple instances of objects \n",
    "and we can create real world entity classes using OOPS class\n",
    "\n",
    "Objects are the Instances of the class which contains multiple features and functionality of the class in it.\n",
    "\"\"\"\n",
    "\n",
    "class Test_class:\n",
    "    def Test_object(self):\n",
    "        pass\n",
    "    \n",
    "class Car:\n",
    "    def Sedan(self):\n",
    "        pass\n",
    "    def SUV(self):\n",
    "        pass\n",
    "    def MPV(self):\n",
    "        pass"
   ]
  },
  {
   "cell_type": "code",
   "execution_count": 1,
   "id": "afef2b44-956d-45bd-9a2b-23c3bf6dc767",
   "metadata": {},
   "outputs": [
    {
     "name": "stdout",
     "output_type": "stream",
     "text": [
      "\n"
     ]
    }
   ],
   "source": [
    "# Q2. Name the four pillars of OOPs.\n",
    "\n",
    "\"\"\"\n",
    "Four Pillars of OOPs are \n",
    "1. Polymorphism\n",
    "2. Encapsulation\n",
    "3. Inheritance\n",
    "4. Abstraction\n",
    "\"\"\"\n",
    "print()"
   ]
  },
  {
   "cell_type": "code",
   "execution_count": 1,
   "id": "0747b672-dbcc-485d-8f4d-4849a63c26d3",
   "metadata": {},
   "outputs": [],
   "source": [
    "# Q3. Explain why the __init__() function is used. Give a suitable example.\n",
    "\n",
    "\"\"\"\n",
    "__init__() function is a constructor fucntion it is initialized automatically when the object of the class is created.\n",
    "\n",
    "Constructor is can help in when we want to input some data from the user or import some important data for the class to run\n",
    "\"\"\"\n",
    "\n",
    "class Bike:\n",
    "    def __init__(self, engine_cc, power, torque, millage, top_speed):\n",
    "        self.engine_cc = engine_cc\n",
    "        self.power = power\n",
    "        self.torque = torque\n",
    "        self.millage = millage\n",
    "        self.top_speed = top_speed\n",
    "    def bike_info(self):\n",
    "        return f\"Engine capacity is {self.engine_cc}, Power and Torque is {self.power}hps and {self.torque}nm, Millage is {self.millage} and Top speed is {self.top_speed}\""
   ]
  },
  {
   "cell_type": "code",
   "execution_count": 2,
   "id": "40fbb91c-d9c9-48ba-8e72-b2258d9fec2e",
   "metadata": {},
   "outputs": [],
   "source": [
    "hero_xmr = Bike(\"210cc\", 26.5, 22.4, 35, 150)"
   ]
  },
  {
   "cell_type": "code",
   "execution_count": 3,
   "id": "3a8ccbcb-8ac4-42dc-b9f6-a268285875af",
   "metadata": {},
   "outputs": [
    {
     "data": {
      "text/plain": [
       "'Engine capacity is 210cc, Power and Torque is 26.5hps and 22.4nm, Millage is 35 and Top speed is 150'"
      ]
     },
     "execution_count": 3,
     "metadata": {},
     "output_type": "execute_result"
    }
   ],
   "source": [
    "hero_xmr.bike_info()"
   ]
  },
  {
   "cell_type": "code",
   "execution_count": 4,
   "id": "5a33d200-ef4c-40d5-b85e-60c196f624e0",
   "metadata": {},
   "outputs": [
    {
     "name": "stdout",
     "output_type": "stream",
     "text": [
      "\n"
     ]
    }
   ],
   "source": [
    "# Q4. Why self is used in OOPs?\n",
    "\n",
    "\"\"\"\n",
    "Self is a instance of the class.\n",
    "Self is used to access a value or initialize a value of a variable.\n",
    "Self is a inbuild assinged word in python \n",
    "we can also use another word instead of self in OOPs but it is good practice to use Self.\n",
    "\"\"\"\n",
    "print()"
   ]
  },
  {
   "cell_type": "code",
   "execution_count": 8,
   "id": "c60f37ae-d213-477f-8792-cfe7e61ccda1",
   "metadata": {},
   "outputs": [],
   "source": [
    "# Q5. What is inheritance? Give an example for each type of inheritance.\n",
    "\n",
    "\"\"\"\n",
    "Inheritance is a just like inheriting some of the features form the parent class to the child class.\n",
    "it is one of the main pillar of OOPs.\n",
    "\n",
    "There are 5 types of Inheritance\n",
    "1. Single Inheritance.\n",
    "2. Multiple Inheritance.\n",
    "3. Multi-level Inheritance.\n",
    "4. Hierarchical Inheritance.\n",
    "5. Hybrid Inheritance.\n",
    "\"\"\"\n",
    "\n",
    "# 1. Single Inheritance.\n",
    "class Parent1:\n",
    "    pass\n",
    "class Child1(Parent1):\n",
    "    pass\n",
    "\n",
    "# 2. Multiple Inheritance.\n",
    "class Parent1:\n",
    "    pass\n",
    "class Parent2:\n",
    "    pass\n",
    "\n",
    "class Child1(Parent1, Parent2):\n",
    "    pass\n",
    "\n",
    "# 3. Multi-level Inheritance.\n",
    "class Parent1:\n",
    "    pass\n",
    "class Parent2(Parent1):\n",
    "    pass\n",
    "class Child1(Parent2):\n",
    "    pass\n",
    "class Child2(Child1):\n",
    "    pass\n",
    "\n",
    "# 4. Hierarchical Inheritance.\n",
    "class Parent1:\n",
    "    pass\n",
    "class Child1(Parent1):\n",
    "    pass\n",
    "class Child2(Parent1):\n",
    "    pass\n",
    "class Child3(Parent1):\n",
    "    pass\n",
    "\n",
    "# 5. Hybrid Inheritance.\n",
    "### single inheritance\n",
    "class Parent1:\n",
    "    pass\n",
    "class Child1(Parent1):\n",
    "    pass\n",
    "\n",
    "### multiple inheritance\n",
    "class Parent2:\n",
    "    pass\n",
    "class Child2(Parent1, Parent2):\n",
    "    pass\n",
    "\n",
    "### multi-level inheritance\n",
    "class Child3(Child2):\n",
    "    pass"
   ]
  }
 ],
 "metadata": {
  "kernelspec": {
   "display_name": "Python 3 (ipykernel)",
   "language": "python",
   "name": "python3"
  },
  "language_info": {
   "codemirror_mode": {
    "name": "ipython",
    "version": 3
   },
   "file_extension": ".py",
   "mimetype": "text/x-python",
   "name": "python",
   "nbconvert_exporter": "python",
   "pygments_lexer": "ipython3",
   "version": "3.10.8"
  }
 },
 "nbformat": 4,
 "nbformat_minor": 5
}
