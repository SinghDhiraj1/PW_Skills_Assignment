{
 "cells": [
  {
   "cell_type": "code",
   "execution_count": 18,
   "id": "2348115d-cb7e-4344-9060-961d2be7386c",
   "metadata": {},
   "outputs": [],
   "source": [
    "# Q1, Create a vehicle class with an init method having instance variables as name_of_vehicle, max_speed\n",
    "# and average_of_vehicle.\n",
    "\n",
    "class vehicle:\n",
    "    def __init__(self, name_of_vehicle, max_speed, average_of_vehicle):\n",
    "        self.name_of_vehicle = name_of_vehicle\n",
    "        self.max_speed = max_speed\n",
    "        self. average_of_vehicle = average_of_vehicle\n",
    "        "
   ]
  },
  {
   "cell_type": "code",
   "execution_count": 19,
   "id": "d0970ab0-c62e-452a-acc3-9d6f23e42d8f",
   "metadata": {},
   "outputs": [],
   "source": [
    "car = vehicle('Honda City', 200, '20kmpl')"
   ]
  },
  {
   "cell_type": "code",
   "execution_count": 20,
   "id": "a4e4a54c-4e19-45da-b2b2-81f031059ef7",
   "metadata": {},
   "outputs": [],
   "source": [
    "# Q2. Create a child class car from the vehicle class created in Que 1, which will inherit the vehicle class.\n",
    "# Create a method named seating_capacity which takes capacity as an argument and returns the name of\n",
    "# the vehicle and its seating capacity.\n",
    "\n",
    "class car(vehicle):\n",
    "    def seating_capacity(self, capacity):\n",
    "        return f\"Name of the car is {self.name_of_vehicle} and its seating capacity is {capacity}\""
   ]
  },
  {
   "cell_type": "code",
   "execution_count": 22,
   "id": "877bedc2-8ae8-453c-9412-4d81ae971f79",
   "metadata": {},
   "outputs": [],
   "source": [
    "hyundai = car('verna', 220, '18kmpl')"
   ]
  },
  {
   "cell_type": "code",
   "execution_count": 27,
   "id": "06c2f671-73c0-4766-b79b-d89dba978487",
   "metadata": {},
   "outputs": [
    {
     "data": {
      "text/plain": [
       "'Name of the car is verna and its seating capacity is 5'"
      ]
     },
     "execution_count": 27,
     "metadata": {},
     "output_type": "execute_result"
    }
   ],
   "source": [
    "hyundai.seating_capacity(5)"
   ]
  },
  {
   "cell_type": "code",
   "execution_count": 67,
   "id": "3bae9c1d-59a8-4c6c-90e1-43892b69e2c8",
   "metadata": {},
   "outputs": [
    {
     "name": "stdout",
     "output_type": "stream",
     "text": [
      "Father : RAM\n",
      "Mother : SITA\n"
     ]
    }
   ],
   "source": [
    "# Q3. What is multiple inheritance? Write a python code to demonstrate multiple inheritance.\n",
    "\n",
    "\"\"\"\n",
    "When a chind class inherites from 2 or more parents class then it is called as multiple inheritance\n",
    "\"\"\"\n",
    "#example\n",
    "\n",
    "class Mother:\n",
    "    mothername = \"\"\n",
    " \n",
    "    def mother(self):\n",
    "        print(self.mothername)\n",
    "\n",
    "class Father:\n",
    "    fathername = \"\"\n",
    " \n",
    "    def father(self):\n",
    "        print(self.fathername)\n",
    "\n",
    "class Son(Mother, Father):\n",
    "    def parents(self):\n",
    "        print(\"Father :\", self.fathername)\n",
    "        print(\"Mother :\", self.mothername)\n",
    " \n",
    " \n",
    "# Driver's code\n",
    "s1 = Son()\n",
    "s1.fathername = \"RAM\"\n",
    "s1.mothername = \"SITA\"\n",
    "s1.parents()"
   ]
  },
  {
   "cell_type": "code",
   "execution_count": 95,
   "id": "d8187a6b-4e46-457d-9d11-422e2454fcc1",
   "metadata": {},
   "outputs": [],
   "source": [
    "# Q4. What are getter and setter in python? Create a class and create a getter and a setter method in this\n",
    "# class.\n",
    "\"\"\"\n",
    "getter and setter in python are used to get and set the values inside the class which is encapsulated and are hidden from the user\n",
    "we can only access and manipulate this encapsulated data using getters and setters\n",
    "\"\"\"\n",
    "class student:\n",
    "    def __init__(self, name, roll_no, grade):\n",
    "        self.__name = name\n",
    "        self.__roll_no = roll_no\n",
    "        self.__grade = grade\n",
    "    \n",
    "    def set_grade(self, grade):\n",
    "        self.__grade = grade \n",
    "    \n",
    "    def get_details(self):\n",
    "        return f\"name is {self.__name}, roll_no is{self.__roll_no}, grade is {self.__grade}\""
   ]
  },
  {
   "cell_type": "code",
   "execution_count": 96,
   "id": "4560634d-ed82-4f41-9fc8-eae28d1256ee",
   "metadata": {},
   "outputs": [],
   "source": [
    "s1 = student(\"Dhiraj Singh\", 101, \"B\")"
   ]
  },
  {
   "cell_type": "code",
   "execution_count": 97,
   "id": "30908d46-1e54-4d5d-9d5d-8d983e9bbf7c",
   "metadata": {},
   "outputs": [
    {
     "data": {
      "text/plain": [
       "'name is Dhiraj Singh, roll_no is101, grade is B'"
      ]
     },
     "execution_count": 97,
     "metadata": {},
     "output_type": "execute_result"
    }
   ],
   "source": [
    "s1.get_details()"
   ]
  },
  {
   "cell_type": "code",
   "execution_count": 98,
   "id": "bbc49839-a440-4554-9962-ebbb1efff050",
   "metadata": {},
   "outputs": [],
   "source": [
    "s1.set_grade(\"A\")"
   ]
  },
  {
   "cell_type": "code",
   "execution_count": 99,
   "id": "deeb31e7-7f0f-4fe9-aa3f-8a418f51b06b",
   "metadata": {},
   "outputs": [
    {
     "data": {
      "text/plain": [
       "'name is Dhiraj Singh, roll_no is101, grade is A'"
      ]
     },
     "execution_count": 99,
     "metadata": {},
     "output_type": "execute_result"
    }
   ],
   "source": [
    "s1.get_details()"
   ]
  },
  {
   "cell_type": "code",
   "execution_count": 122,
   "id": "7dfb06e3-0f01-48d3-91b8-d43d32760661",
   "metadata": {},
   "outputs": [],
   "source": [
    "# Q5.What is method overriding in python? Write a python code to demonstrate method overriding.\n",
    "\n",
    "\"\"\"\n",
    "Overriding in Python is a term from inheritance where Child class inherits the blueprint of the Parent class and overrides the functionality \n",
    "of the method according to the instance of the object although the name of the method is same\n",
    "\"\"\"\n",
    "import abc\n",
    "\n",
    "@abc.abstractmethod\n",
    "class Bird:\n",
    "    def move(self):\n",
    "        pass\n",
    "    \n",
    "class Pigeon(Bird):\n",
    "    def move(self):\n",
    "        return \"Flys with wings and walks on 2 legs\"\n",
    "    \n",
    "class Ostrich(Bird):\n",
    "    def move(self):\n",
    "        return \"walks on 2 legs\""
   ]
  },
  {
   "cell_type": "code",
   "execution_count": 125,
   "id": "e0c15d61-4f57-4e8b-967d-9d4f32ab3037",
   "metadata": {},
   "outputs": [],
   "source": [
    "b1 = Pigeon()\n",
    "b2 = Ostrich()"
   ]
  },
  {
   "cell_type": "code",
   "execution_count": 126,
   "id": "78d36c8c-2bed-41fd-9e4f-a846cf609cc8",
   "metadata": {},
   "outputs": [
    {
     "data": {
      "text/plain": [
       "'Flys with wings and walks on 2 legs'"
      ]
     },
     "execution_count": 126,
     "metadata": {},
     "output_type": "execute_result"
    }
   ],
   "source": [
    "b1.move()"
   ]
  },
  {
   "cell_type": "code",
   "execution_count": 127,
   "id": "eff2cd0b-175b-4ebf-a704-03752538ecbd",
   "metadata": {},
   "outputs": [
    {
     "data": {
      "text/plain": [
       "'walks on 2 legs'"
      ]
     },
     "execution_count": 127,
     "metadata": {},
     "output_type": "execute_result"
    }
   ],
   "source": [
    "b2.move()"
   ]
  },
  {
   "cell_type": "code",
   "execution_count": null,
   "id": "e2cab4c3-4fb8-4170-a29b-93c65b58977a",
   "metadata": {},
   "outputs": [],
   "source": []
  }
 ],
 "metadata": {
  "kernelspec": {
   "display_name": "Python 3 (ipykernel)",
   "language": "python",
   "name": "python3"
  },
  "language_info": {
   "codemirror_mode": {
    "name": "ipython",
    "version": 3
   },
   "file_extension": ".py",
   "mimetype": "text/x-python",
   "name": "python",
   "nbconvert_exporter": "python",
   "pygments_lexer": "ipython3",
   "version": "3.10.8"
  }
 },
 "nbformat": 4,
 "nbformat_minor": 5
}
