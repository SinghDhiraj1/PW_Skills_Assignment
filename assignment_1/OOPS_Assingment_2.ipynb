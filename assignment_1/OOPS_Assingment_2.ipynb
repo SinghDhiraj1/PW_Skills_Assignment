{
 "cells": [
  {
   "cell_type": "code",
   "execution_count": 4,
   "id": "fd4711df-fe4c-404a-909e-df141d4c68fb",
   "metadata": {},
   "outputs": [],
   "source": [
    "# Q1. What is Abstraction in OOps? Explain with an example.\n",
    "\"\"\"\n",
    "Abstraction is  hiding an object's implementation details and \n",
    "only showing the user the information that is absolutely necessary.\n",
    "\"\"\"\n",
    "import abc\n",
    "@abc.abstractmethod\n",
    "class Car:\n",
    "    def seating_capacity(self):\n",
    "        return \"seating capacity of the car is\"\n",
    "    def engine_cc(self):\n",
    "        return \"engine capacity of the car is\"\n",
    "    \n",
    "class Honda(Car):\n",
    "    def seating_capacity(self):\n",
    "        return \"seating capacity of the car is 5\"\n",
    "    def engine_cc(self):\n",
    "        return \"engine capacity of the car is 1500cc\""
   ]
  },
  {
   "cell_type": "code",
   "execution_count": 5,
   "id": "edca14e1-942f-4b41-a364-1502ad09d2bc",
   "metadata": {},
   "outputs": [],
   "source": [
    "# Q2. Differentiate between Abstraction and Encapsulation. Explain with an example.\n",
    "\"\"\"\n",
    "Abstraction:\n",
    "- Abstraction is a hiding of the essential information from the user and just showing the important one.\n",
    "- Abstraction is just making a high level structure or pattern of the model to use in multiple smaller classes.\n",
    "- Abstraction can just performed by inheriting the property of the parent class.\n",
    "\"\"\"\n",
    "import abc\n",
    "@abc.abstractmethod\n",
    "class Car:\n",
    "    def seating_capacity(self):\n",
    "        return \"seating capacity of the car is\"\n",
    "    def engine_cc(self):\n",
    "        return \"engine capacity of the car is\"\n",
    "    \n",
    "class Honda(Car):\n",
    "    def seating_capacity(self):\n",
    "        return \"seating capacity of the car is 5\"\n",
    "    def engine_cc(self):\n",
    "        return \"engine capacity of the car is 1500cc\"\n",
    "\n",
    "\"\"\"\n",
    "Encapsulation:\n",
    "- Encapsulation is hiding the data and the functionality from the user and \n",
    "show them according to the rights and permission provided to the user from the developer\n",
    "- Encapsulation is capsulating the data from our side and give some steps to the user to update and edit the data accordingly.\n",
    "- Encapsulation is performed inside the function only and not can also be used in other function on the basis of the conditions.\n",
    "\"\"\"\n",
    "class Benz(Car):\n",
    "    def __init__(self, power, torque, turbo):\n",
    "        self.__power = power\n",
    "        self.__torque = torque\n",
    "        self.__turbo = turbo\n",
    "    def get_engine_details(self):\n",
    "        return f\"Power and the torque of Benz is {self.__power}hps and {self.__torque}nm\""
   ]
  },
  {
   "cell_type": "code",
   "execution_count": 6,
   "id": "43fc788f-12af-4cd7-b09b-77ca871665c6",
   "metadata": {},
   "outputs": [
    {
     "name": "stdout",
     "output_type": "stream",
     "text": [
      "\n"
     ]
    }
   ],
   "source": [
    "# Q3. What is abc module in python? Why is it used?\n",
    "\"\"\"\n",
    "abc is Abstract Base Class. it is used to perform abstract methods to the python OOPS.\n",
    "\n",
    "It is used because python is not a fully OOPS language is some extra functionality used to perform OOPS concepts easily\n",
    "\"\"\"\n",
    "print()"
   ]
  },
  {
   "cell_type": "code",
   "execution_count": null,
   "id": "1a75cd89-901c-485f-af24-3525073830f7",
   "metadata": {},
   "outputs": [],
   "source": [
    "# Q4. How can we achieve data abstraction?\n",
    "\"\"\"\n",
    "We can achieve data absraction by creating abstract classes and inheriting them later\n",
    "\n",
    "example is on Q1 of this notebook\n",
    "\"\"\""
   ]
  },
  {
   "cell_type": "code",
   "execution_count": null,
   "id": "d2ab748c-5603-4e25-9360-0a47086bfac3",
   "metadata": {},
   "outputs": [],
   "source": [
    "# Q5. Can we create an instance of an abstract class? Explain your answer.\n",
    "\n",
    "\"\"\"\n",
    "Abstract class cannot be initialized instead it can be subclassed.\n",
    "\n",
    "and after it is subclassed we can use all the methods of the subclass in the child cla\n",
    "\"\"\""
   ]
  }
 ],
 "metadata": {
  "kernelspec": {
   "display_name": "Python 3 (ipykernel)",
   "language": "python",
   "name": "python3"
  },
  "language_info": {
   "codemirror_mode": {
    "name": "ipython",
    "version": 3
   },
   "file_extension": ".py",
   "mimetype": "text/x-python",
   "name": "python",
   "nbconvert_exporter": "python",
   "pygments_lexer": "ipython3",
   "version": "3.10.8"
  }
 },
 "nbformat": 4,
 "nbformat_minor": 5
}
