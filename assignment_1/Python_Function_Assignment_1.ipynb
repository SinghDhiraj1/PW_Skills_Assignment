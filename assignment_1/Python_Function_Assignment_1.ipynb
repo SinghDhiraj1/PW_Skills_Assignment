{
 "cells": [
  {
   "cell_type": "code",
   "execution_count": 12,
   "id": "36176ff4-3432-4bc4-a688-fce5bf54ab9d",
   "metadata": {},
   "outputs": [
    {
     "data": {
      "text/plain": [
       "[1, 3, 5, 7, 9, 11, 13, 15, 17, 19, 21, 23, 25]"
      ]
     },
     "execution_count": 12,
     "metadata": {},
     "output_type": "execute_result"
    }
   ],
   "source": [
    "# Q1. Which keyword is used to create a function? Create a function to return a list of odd numbers in the\n",
    "# range of 1 to 25.\n",
    "\n",
    "\"\"\"\n",
    "'def' keyword is used to create a function\n",
    "\"\"\"\n",
    "def odd_list():\n",
    "    odd_list = []\n",
    "    for i in range(0,25+1):\n",
    "        if i%2 != 0:\n",
    "            odd_list.append(i)\n",
    "    return odd_list\n",
    "\n",
    "odd_list()"
   ]
  },
  {
   "cell_type": "code",
   "execution_count": 18,
   "id": "ae7310f9-3095-4d4b-a0d4-e44f1d04b528",
   "metadata": {},
   "outputs": [
    {
     "name": "stdout",
     "output_type": "stream",
     "text": [
      "10\n",
      "dhiraj\n",
      "singh\n",
      "10.1\n",
      "hello world\n",
      "\n",
      "firstname:Dhiraj\n",
      "lastname:Singh\n",
      "age:22\n"
     ]
    }
   ],
   "source": [
    "# Q2. Why *args and **kwargs is used in some functions? Create a function each for *args and **kwargs\n",
    "# to demonstrate their use.\n",
    "\n",
    "\"\"\"\n",
    "*args is used to add list of value to the function \n",
    "while declaring the values to be entered into the function \n",
    "we can add any number of values while calling any function\n",
    "\n",
    "*kargs is used to add dictionary values to the function in the form of keys and values\n",
    "we can add any number of elements while adding values to kargs function\n",
    "\"\"\"\n",
    "\n",
    "def example_for_args(*args):\n",
    "    for args in args:\n",
    "        print(args)\n",
    "\n",
    "def example_for_kargs(**kargs):\n",
    "    for key, value in kargs.items():\n",
    "        print(f\"{key}:{value}\")\n",
    "        \n",
    "example_for_args(10,'dhiraj','singh',10.1,'hello world')\n",
    "print()\n",
    "example_for_kargs(firstname='Dhiraj', lastname='Singh', age=22)\n"
   ]
  },
  {
   "cell_type": "code",
   "execution_count": 22,
   "id": "7d7137fd-507f-436e-be46-37972083b23f",
   "metadata": {},
   "outputs": [
    {
     "name": "stdout",
     "output_type": "stream",
     "text": [
      "2\n",
      "4\n",
      "6\n",
      "8\n",
      "10\n"
     ]
    }
   ],
   "source": [
    "# Q3. What is an iterator in python? Name the method used to initialise the iterator object and the method\n",
    "# used for iteration. Use these methods to print the first five elements of the given list [2, 4, 6, 8, 10, 12, 14,\n",
    "# 16, 18, 20].\n",
    "\n",
    "list1 = [2, 4, 6, 8, 10, 12, 14, 16, 18, 20]\n",
    "\n",
    "iterator = iter(list1)\n",
    "\n",
    "for i in range(5):\n",
    "    print(next(iterator))\n",
    "    "
   ]
  },
  {
   "cell_type": "code",
   "execution_count": 25,
   "id": "9ed7fb4f-4361-401b-926d-9a0023b688b8",
   "metadata": {},
   "outputs": [
    {
     "name": "stdout",
     "output_type": "stream",
     "text": [
      "0\n",
      "1\n",
      "2\n",
      "3\n",
      "4\n"
     ]
    }
   ],
   "source": [
    "# Q4. What is a generator function in python? Why yield keyword is used? Give an example of a generator\n",
    "# function.\n",
    "\n",
    "\"\"\"\n",
    "generator fuction is assigned by using yield keyword \n",
    "and it generates the element while calling the next element and not stores the element while declaration \n",
    "therefore it save memory and can be used in and infinite data values\n",
    "\"\"\"\n",
    "\n",
    "def generator(n):\n",
    "    for i in range(n):\n",
    "        yield i\n",
    "        \n",
    "list2 = generator(10)\n",
    "\n",
    "print(next(list2))\n",
    "print(next(list2))\n",
    "\n",
    "for i in range(2):\n",
    "    print(next(list2))\n",
    "    \n",
    "print(next(list2))"
   ]
  },
  {
   "cell_type": "code",
   "execution_count": 29,
   "id": "7fca7301-1c68-4327-9efa-ed19c983172f",
   "metadata": {},
   "outputs": [
    {
     "name": "stdout",
     "output_type": "stream",
     "text": [
      "2\n",
      "3\n",
      "5\n",
      "7\n",
      "11\n",
      "13\n",
      "17\n",
      "19\n",
      "23\n",
      "29\n",
      "31\n",
      "37\n",
      "41\n",
      "43\n",
      "47\n",
      "53\n",
      "59\n",
      "61\n",
      "67\n",
      "71\n"
     ]
    }
   ],
   "source": [
    "# Q5. Create a generator function for prime numbers less than 1000. Use the next() method to print the\n",
    "# first 20 prime numbers.\n",
    "\n",
    "def is_prime(n):\n",
    "    if n < 2:\n",
    "        return False\n",
    "    \n",
    "    for i in range(2, int(n**0.5)+1):\n",
    "        if n % i == 0:\n",
    "            return False\n",
    "        \n",
    "    return True\n",
    "\n",
    "def generator2():\n",
    "    for i in range(1000):\n",
    "        if is_prime(i):\n",
    "            yield(i)\n",
    "        \n",
    "num = generator2()\n",
    "\n",
    "for n in range(20):\n",
    "    print(next(num))\n"
   ]
  },
  {
   "cell_type": "code",
   "execution_count": 38,
   "id": "e14ce8ab-7839-4eb2-9284-7247d55d0878",
   "metadata": {},
   "outputs": [
    {
     "name": "stdout",
     "output_type": "stream",
     "text": [
      "0\n",
      "1\n",
      "1\n",
      "2\n",
      "3\n",
      "5\n",
      "8\n",
      "13\n",
      "21\n",
      "34\n"
     ]
    }
   ],
   "source": [
    "# Q6. Write a python program to print the first 10 Fibonacci numbers using a while loop.\n",
    "\n",
    "def fib(n):\n",
    "    \n",
    "    a, b = 0, 1\n",
    "    count = 0\n",
    "    while(count < n):\n",
    "        yield(a)\n",
    "        a, b = b, a+b\n",
    "        count+=1\n",
    "\n",
    "x = fib(10)\n",
    "for i in x:\n",
    "    print(i)"
   ]
  },
  {
   "cell_type": "code",
   "execution_count": 40,
   "id": "5986977c-ccc9-4916-85b1-707979b75ba7",
   "metadata": {},
   "outputs": [
    {
     "data": {
      "text/plain": [
       "['p', 'w', 's', 'k', 'i', 'l', 'l', 's']"
      ]
     },
     "execution_count": 40,
     "metadata": {},
     "output_type": "execute_result"
    }
   ],
   "source": [
    "# Q7. Write a List Comprehension to iterate through the given string: ‘pwskills’.\n",
    "# Expected output: ['p', 'w', 's', 'k', 'i', 'l', 'l', 's']\n",
    "\n",
    "s = 'pwskills'\n",
    "\n",
    "list3 = [char for char in s]\n",
    "list3"
   ]
  },
  {
   "cell_type": "code",
   "execution_count": 47,
   "id": "af57f7db-730d-42c3-b16a-e6f11758aa23",
   "metadata": {},
   "outputs": [
    {
     "name": "stdout",
     "output_type": "stream",
     "text": [
      "False\n",
      "True\n"
     ]
    }
   ],
   "source": [
    "# Q8. Write a python program to check whether a given number is Palindrome or not using a while loop.\n",
    "\n",
    "def palindrone(n):\n",
    "    temp = n\n",
    "    rev = 0\n",
    "    while(n!=0):\n",
    "        rev = rev*10 + (n%10)\n",
    "        n = n//10\n",
    "    \n",
    "    if int(rev) == temp:\n",
    "        return True\n",
    "    else:\n",
    "        return False\n",
    "    \n",
    "print(palindrone(100))\n",
    "print(palindrone(101))"
   ]
  },
  {
   "cell_type": "code",
   "execution_count": 1,
   "id": "a13099eb-4f51-49fc-bcd6-0f73d458d212",
   "metadata": {},
   "outputs": [],
   "source": [
    "# Q9. Write a code to print odd numbers from 1 to 100 using list comprehension.\n",
    "# Note: Use a list comprehension to create a list from 1 to 100 and use another List comprehension to filter\n",
    "# out odd numbers.\n",
    "\n",
    "list4 = [i for i in range(100+1)]"
   ]
  },
  {
   "cell_type": "code",
   "execution_count": 3,
   "id": "9988fccb-099c-42f0-8c1e-71e1a7635437",
   "metadata": {},
   "outputs": [
    {
     "data": {
      "text/plain": [
       "[0,\n",
       " 1,\n",
       " 2,\n",
       " 3,\n",
       " 4,\n",
       " 5,\n",
       " 6,\n",
       " 7,\n",
       " 8,\n",
       " 9,\n",
       " 10,\n",
       " 11,\n",
       " 12,\n",
       " 13,\n",
       " 14,\n",
       " 15,\n",
       " 16,\n",
       " 17,\n",
       " 18,\n",
       " 19,\n",
       " 20,\n",
       " 21,\n",
       " 22,\n",
       " 23,\n",
       " 24,\n",
       " 25,\n",
       " 26,\n",
       " 27,\n",
       " 28,\n",
       " 29,\n",
       " 30,\n",
       " 31,\n",
       " 32,\n",
       " 33,\n",
       " 34,\n",
       " 35,\n",
       " 36,\n",
       " 37,\n",
       " 38,\n",
       " 39,\n",
       " 40,\n",
       " 41,\n",
       " 42,\n",
       " 43,\n",
       " 44,\n",
       " 45,\n",
       " 46,\n",
       " 47,\n",
       " 48,\n",
       " 49,\n",
       " 50,\n",
       " 51,\n",
       " 52,\n",
       " 53,\n",
       " 54,\n",
       " 55,\n",
       " 56,\n",
       " 57,\n",
       " 58,\n",
       " 59,\n",
       " 60,\n",
       " 61,\n",
       " 62,\n",
       " 63,\n",
       " 64,\n",
       " 65,\n",
       " 66,\n",
       " 67,\n",
       " 68,\n",
       " 69,\n",
       " 70,\n",
       " 71,\n",
       " 72,\n",
       " 73,\n",
       " 74,\n",
       " 75,\n",
       " 76,\n",
       " 77,\n",
       " 78,\n",
       " 79,\n",
       " 80,\n",
       " 81,\n",
       " 82,\n",
       " 83,\n",
       " 84,\n",
       " 85,\n",
       " 86,\n",
       " 87,\n",
       " 88,\n",
       " 89,\n",
       " 90,\n",
       " 91,\n",
       " 92,\n",
       " 93,\n",
       " 94,\n",
       " 95,\n",
       " 96,\n",
       " 97,\n",
       " 98,\n",
       " 99,\n",
       " 100]"
      ]
     },
     "execution_count": 3,
     "metadata": {},
     "output_type": "execute_result"
    }
   ],
   "source": [
    "l"
   ]
  },
  {
   "cell_type": "code",
   "execution_count": null,
   "id": "91f94e9c-71ad-44ff-b313-9f2cdb3ba6b8",
   "metadata": {},
   "outputs": [],
   "source": []
  }
 ],
 "metadata": {
  "kernelspec": {
   "display_name": "Python 3 (ipykernel)",
   "language": "python",
   "name": "python3"
  },
  "language_info": {
   "codemirror_mode": {
    "name": "ipython",
    "version": 3
   },
   "file_extension": ".py",
   "mimetype": "text/x-python",
   "name": "python",
   "nbconvert_exporter": "python",
   "pygments_lexer": "ipython3",
   "version": "3.10.8"
  }
 },
 "nbformat": 4,
 "nbformat_minor": 5
}
