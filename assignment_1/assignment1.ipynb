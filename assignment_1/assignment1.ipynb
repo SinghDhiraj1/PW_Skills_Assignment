{
 "cells": [
  {
   "cell_type": "markdown",
   "id": "49ee836f-edf3-48ae-8173-3b2b75bfa7e3",
   "metadata": {},
   "source": [
    "### Assignment"
   ]
  },
  {
   "cell_type": "code",
   "execution_count": 1,
   "id": "700e5513-489f-4e6d-82ac-0d241f8605c5",
   "metadata": {},
   "outputs": [],
   "source": [
    "# Q1. Create one variable containing following type of data:\n",
    "# (i) string\n",
    "# (ii) list\n",
    "# (iii) float\n",
    "# (iv) tuple\n",
    "\n",
    "string = \"Hello World\"\n",
    "list1 = [1,2,4,[1,2,4],'hello']\n",
    "float1 = 1.23\n",
    "tuple1 = (1,2,3)"
   ]
  },
  {
   "cell_type": "code",
   "execution_count": 4,
   "id": "e71c993f-810b-469d-8140-df8995722359",
   "metadata": {
    "tags": []
   },
   "outputs": [
    {
     "name": "stdout",
     "output_type": "stream",
     "text": [
      "<class 'str'>\n",
      "<class 'str'>\n",
      "<class 'list'>\n",
      "<class 'int'>\n"
     ]
    }
   ],
   "source": [
    "# Q2. Given are some following variables containing data:\n",
    "# (i) var1 = ‘ ‘\n",
    "# (ii) var2 = ‘[ DS , ML , Python]’\n",
    "# (iii) var3 = [ ‘DS’ , ’ML’ , ‘Python’ ]\n",
    "# (iv) var4 = 1.\n",
    "\n",
    "var1 = \"\"\n",
    "print(type(var1))\n",
    "\n",
    "var2 = '[ DS , ML , Python]'\n",
    "print(type(var2))\n",
    "\n",
    "var3 = [ \"DS\" , \"ML\" , \"Python\"]\n",
    "print(type(var3))\n",
    "\n",
    "var4 = 1\n",
    "print(type(var4))\n"
   ]
  },
  {
   "cell_type": "code",
   "execution_count": 7,
   "id": "ba945fdc-8605-4dac-a301-b5c034c52335",
   "metadata": {},
   "outputs": [
    {
     "name": "stdout",
     "output_type": "stream",
     "text": [
      "1.6666666666666667\n",
      "2\n",
      "1\n",
      "125\n"
     ]
    }
   ],
   "source": [
    "# Q3. Explain the use of the following operators using an example:\n",
    "# (i) /\n",
    "# (ii) %\n",
    "# (iii) //\n",
    "# (iv) **\n",
    "\n",
    "# / is a divide operator used for division\n",
    "print(5/3)\n",
    "\n",
    "# % is a modulo operator gives remainder\n",
    "print(5%3)\n",
    "\n",
    "# // is a flor division operator used to give int output\n",
    "print(5//3)\n",
    "\n",
    "# ** is a power operator\n",
    "print(5**3)"
   ]
  },
  {
   "cell_type": "code",
   "execution_count": 10,
   "id": "d6565e21-657d-4f77-b07e-0f1b6904eb7f",
   "metadata": {},
   "outputs": [
    {
     "name": "stdout",
     "output_type": "stream",
     "text": [
      "length of list2 is 10\n",
      "Element 1 dtype is <class 'int'>\n",
      "Element 1.2 dtype is <class 'float'>\n",
      "Element [1, 2, 3, 4] dtype is <class 'list'>\n",
      "Element (1, 2, 3, 4) dtype is <class 'tuple'>\n",
      "Element {1: 2, 3: 4} dtype is <class 'dict'>\n",
      "Element 1 dtype is <class 'str'>\n",
      "Element a dtype is <class 'str'>\n",
      "Element hello world dtype is <class 'str'>\n",
      "Element 1.2222222222 dtype is <class 'float'>\n",
      "Element 238847322 dtype is <class 'int'>\n"
     ]
    }
   ],
   "source": [
    "# Q4. Create a list of length 10 of your choice containing multiple types of data. Using for loop print the\n",
    "# element and its data type.\n",
    "list2 = [1, 1.2, [1,2,3,4], (1,2,3,4), {1:2, 3:4}, \"1\", \"a\", \"hello world\", 1.2222222222, 238847322]\n",
    "print(\"length of list2 is {}\".format(len(list2)))\n",
    "for i in list2:\n",
    "    print(f\"Element {i} dtype is {type(i)}\")"
   ]
  },
  {
   "cell_type": "code",
   "execution_count": 13,
   "id": "f2d7c615-9d03-4041-b984-b285c236ef1d",
   "metadata": {},
   "outputs": [
    {
     "name": "stdout",
     "output_type": "stream",
     "text": [
      "A is Divisible by B 3 times\n"
     ]
    }
   ],
   "source": [
    "# Q5. Using a while loop, verify if the number A is purely divisible by number B and if so then how many\n",
    "# times it can be divisible.\n",
    "\n",
    "count = 0\n",
    "a = 32\n",
    "b = 4\n",
    "\n",
    "while(a):\n",
    "    a = a//b\n",
    "    count+=1\n",
    "    \n",
    "print(f\"A is Divisible by B {count} times\")"
   ]
  },
  {
   "cell_type": "code",
   "execution_count": 16,
   "id": "cff1d200-22e8-4242-9f7a-3b3a4ad1647c",
   "metadata": {},
   "outputs": [
    {
     "name": "stdout",
     "output_type": "stream",
     "text": [
      "30 is divible by 3\n",
      "33 is divible by 3\n",
      "36 is divible by 3\n",
      "39 is divible by 3\n",
      "42 is divible by 3\n",
      "45 is divible by 3\n",
      "48 is divible by 3\n",
      "51 is divible by 3\n",
      "54 is divible by 3\n",
      "[30, 31, 32, 33, 34, 35, 36, 37, 38, 39, 40, 41, 42, 43, 44, 45, 46, 47, 48, 49, 50, 51, 52, 53, 54]\n",
      "length of list3 is 25\n"
     ]
    }
   ],
   "source": [
    "# Q6. Create a list containing 25 int type data. Using for loop and if-else condition print if the element is\n",
    "# divisible by 3 or not.\n",
    "\n",
    "list3 = []\n",
    "\n",
    "for i in range(30,30+25):\n",
    "    list3.append(i)\n",
    "    if i%3 == 0:\n",
    "        print(f\"{i} is divible by 3\")\n",
    "    else:\n",
    "        continue\n",
    "print(list3)\n",
    "print(f\"length of list3 is {len(list3)}\")"
   ]
  },
  {
   "cell_type": "code",
   "execution_count": 19,
   "id": "e6c00328-4847-4e87-be33-d69378113960",
   "metadata": {},
   "outputs": [
    {
     "name": "stdout",
     "output_type": "stream",
     "text": [
      "Mutable: Datatypes which can be updated after declaration and can be manipulated are called mutable datatype\n",
      "[1, 8, 3, 4]\n"
     ]
    }
   ],
   "source": [
    "# Q7. What do you understand about mutable and immutable data types? Give examples for both showing\n",
    "# this property.\n",
    "\n",
    "print(\"Mutable: Datatypes which can be updated after declaration and can be manipulated are called mutable datatype\")\n",
    "\n",
    "list4 = [1,2,3,4]\n",
    "list4[1] = 8 #following line changes the value in the list so list are mutable\n",
    "print(list4)\n",
    "\n",
    "print(\"Immutable: Datatypes which cannot be updated or modified after created is known as immutable datatypes\n",
    "      a\n",
    "tup = (1,2,3,4)\n",
    "# tup[2] = 8  #following line give error because tuples are immutable"
   ]
  },
  {
   "cell_type": "code",
   "execution_count": null,
   "id": "2939c01e-7f78-4d21-801e-49be297239af",
   "metadata": {},
   "outputs": [],
   "source": []
  }
 ],
 "metadata": {
  "kernelspec": {
   "display_name": "Python 3 (ipykernel)",
   "language": "python",
   "name": "python3"
  },
  "language_info": {
   "codemirror_mode": {
    "name": "ipython",
    "version": 3
   },
   "file_extension": ".py",
   "mimetype": "text/x-python",
   "name": "python",
   "nbconvert_exporter": "python",
   "pygments_lexer": "ipython3",
   "version": "3.10.8"
  }
 },
 "nbformat": 4,
 "nbformat_minor": 5
}
