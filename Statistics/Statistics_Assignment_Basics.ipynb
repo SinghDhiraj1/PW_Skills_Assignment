{
 "cells": [
  {
   "cell_type": "code",
   "execution_count": 1,
   "id": "21162c26-ccac-40d3-9a5d-88ef2ea5b792",
   "metadata": {},
   "outputs": [
    {
     "name": "stdout",
     "output_type": "stream",
     "text": [
      "\n"
     ]
    }
   ],
   "source": [
    "# Q1. What is Statistics?\n",
    "\n",
    "\"\"\"\n",
    "Statistics is a science of collecting, organizing and analyzing data.\n",
    "Is a mathematical calculation to remove more insites and information by performing a set of mathtmatical analysis of the basis of the data.\n",
    "Statistics is used for Decision making for a business problem on the basis of the data.\n",
    "\"\"\"\n",
    "\n",
    "print()"
   ]
  },
  {
   "cell_type": "code",
   "execution_count": 2,
   "id": "94b7ca27-be3c-444f-a76d-29cc931d4852",
   "metadata": {},
   "outputs": [
    {
     "name": "stdout",
     "output_type": "stream",
     "text": [
      "\n"
     ]
    }
   ],
   "source": [
    "# Q2. Define the different types of statistics and give an example of when each type might be used.\n",
    "\n",
    "\"\"\"\n",
    "There are mainly 2 types of Statistics \n",
    "\n",
    "1. Descriptive Statistics\n",
    "2. Inferential Statistics\n",
    "\n",
    "Descriptive Statistics: consist of organizing and summarizing data which gives an approximate answer from the data\n",
    "\n",
    "    Calculating Mean, Median, Mode, Variance, Standard Deviation etc.\n",
    "    \n",
    "    Example: Histogram graph, Probability Mass function, Probability density function\n",
    "    like getting average height of the students in the classroom, etc.\n",
    "\n",
    "Inferential Statistics: It consist of using data you have measured to form conclusion. It give exact answer for the prediction.\n",
    "    \n",
    "    Calculating Z-test, T-test, Regression Analysis\n",
    "    \n",
    "    Example: Calculating the test Hypotheses on full population dataset like\n",
    "    getting the average of  hole population dataset mean all student in the school or college\n",
    "\"\"\"\n",
    "print()"
   ]
  },
  {
   "cell_type": "code",
   "execution_count": 3,
   "id": "eb29913f-171e-4865-869c-d112895870ce",
   "metadata": {},
   "outputs": [
    {
     "name": "stdout",
     "output_type": "stream",
     "text": [
      "\n"
     ]
    }
   ],
   "source": [
    "# Q3. What are the different types of data and how do they differ from each other? Provide an example of\n",
    "# each type of data.\n",
    "\n",
    "\"\"\"\n",
    "Data is facts and pieces of information.\n",
    "\n",
    "Their are 2 types of data:\n",
    "\n",
    "1. Quantitative Data: Quantitative are data that are present in the form of Numerical data. example: 1, 3 , 1.5, etc.\n",
    "    quantitative have 2 types in it\n",
    "    1. Discrete Quantitative Data: Numerical data which are of whole numbers and can only be in integer count not in decimal are Discrete data.\n",
    "    example: No. of Bank account, No. of chindrens in the family. this are always in a whole number form\n",
    "    2. Continuous Quantitative Data: Any number data which are not necessary to be in integer are continuous data.\n",
    "    example: Weight, Height, Temperature , speed, etc. This number can contain decimal values\n",
    "    \n",
    "2. Qualitative Data: Data which are in Categorical type in the form of string, char or boolean are qualitative data.\n",
    "    qualitative data have 2 types in it.\n",
    "    1. Nominal Qualitative Data: Categorical data which cannot have ranks between them are nominal data.\n",
    "    example: Gender, Blood Group, Pincode, etc.\n",
    "    2. Ordinal Qualitative Data: Categorical data which can be ranked between them are Ordinal data.\n",
    "    example: Customer Feedback, Grades, Stages, etc.\n",
    "    \n",
    "\"\"\"\n",
    "print()"
   ]
  },
  {
   "cell_type": "code",
   "execution_count": 4,
   "id": "29b5322f-298f-438c-a30f-cf3a5e1f7698",
   "metadata": {},
   "outputs": [
    {
     "name": "stdout",
     "output_type": "stream",
     "text": [
      "\n"
     ]
    }
   ],
   "source": [
    "# Q4. Categorise the following datasets with respect to quantitative and qualitative data types:\n",
    "\n",
    "#(i) Grading in exam: A+, A, B+, B, C+, C, D, E\n",
    "\"\"\"\n",
    "Grading in exam are \"Ordinal Qualitative Data\"\n",
    "\"\"\"\n",
    "\n",
    "#(ii) Colour of mangoes: yellow, green, orange, red\n",
    "\"\"\"\n",
    "Colour of mangoes are \"Nominal Qualitative Data\"\n",
    "\"\"\"\n",
    "\n",
    "#(iii) Height data of a class: [178.9, 179, 179.5, 176, 177.2, 178.3, 175.8,...]\n",
    "\"\"\"\n",
    "Height data of a class if a \"Continuous Quantitative Data\"\n",
    "\"\"\"\n",
    "\n",
    "#(iv) Number of mangoes exported by a farm: [500, 600, 478, 672, ...]\n",
    "\"\"\"\n",
    "Number of mangoes exported by a farm is a \"Discrete Quantitative Data\"\n",
    "\"\"\"\n",
    "print()"
   ]
  },
  {
   "cell_type": "code",
   "execution_count": 5,
   "id": "66f1e3a3-b3df-42e3-90c9-9d93629e1429",
   "metadata": {},
   "outputs": [
    {
     "name": "stdout",
     "output_type": "stream",
     "text": [
      "\n"
     ]
    }
   ],
   "source": [
    "# Q5. Explain the concept of levels of measurement and give an example of a variable for each level.\n",
    "\n",
    "\"\"\"\n",
    "Within the dataset there are different variables can be recorded with different degrees of precision this is called levels measurement\n",
    "\n",
    "1. Nominal Qualitative Data: Categorical data which cannot have ranks between them are nominal data.\n",
    "example: Gender, Blood Group, Pincode, etc.\n",
    "\n",
    "2. Ordinal Qualitative Data: Categorical data which can be ranked between them are Ordinal data.\n",
    "example: Customer Feedback, Grades, Stages, etc.\n",
    "\n",
    "3. Discrete Quantitative Data: Numerical data which are of whole numbers and can only be in integer count not in decimal are Discrete data.\n",
    "example: No. of Bank account, No. of chindrens in the family. this are always in a whole number form\n",
    "\n",
    "4. Continuous Quantitative Data: Any number data which are not necessary to be in integer are continuous data.\n",
    "example: Weight, Height, Temperature , speed, etc. This number can contain decimal values\n",
    "\"\"\"\n",
    "print()"
   ]
  },
  {
   "cell_type": "code",
   "execution_count": 6,
   "id": "4f4d2320-f64f-48a0-bf9e-aaf49e00cd82",
   "metadata": {},
   "outputs": [
    {
     "name": "stdout",
     "output_type": "stream",
     "text": [
      "\n"
     ]
    }
   ],
   "source": [
    "# Q6. Why is it important to understand the level of measurement when analyzing data? Provide an\n",
    "# example to illustrate your answer.\n",
    "\n",
    "\"\"\"\n",
    "It is important to understand the level of measurement when analyzing data because, \n",
    "if we know the level of measurement when we can perform the statistics according to the data type and \n",
    "can get more insites from the data as per the business requirement.\n",
    "\n",
    "example when we know the level mesurements of the data we can perform encoding accordingly\n",
    "1. if we have a column with 2 categorical value then it is Nominal data we can convert it 1 and 0 accordingly\n",
    "2. if we have a column with numbers data of integer and whole numbers it is Descrete data and perform numerical preprocessing\n",
    "3. if we have a column with integer and floating data and contain decimal it is a Continuous data \n",
    "4. if we have a column with can we ranked category or increasing categorical column it is Ordinal data and can convert them in a series of numbers\n",
    "\n",
    "like above example we can perform the level measurements while analyzing data to further preprocess the data accordingly\n",
    "\"\"\"\n",
    "print()"
   ]
  },
  {
   "cell_type": "code",
   "execution_count": 7,
   "id": "f3ee8e93-548d-4594-a3ae-e2c45bc0b797",
   "metadata": {},
   "outputs": [
    {
     "name": "stdout",
     "output_type": "stream",
     "text": [
      "\n"
     ]
    }
   ],
   "source": [
    "# Q7. How nominal data type is different from ordinal data type.\n",
    "\"\"\"\n",
    "Nominal data type are data which cannot be ranked or cannot be organize according to increasing and decreasing order are Nominal data.\n",
    "And Ordinal data type are data which can be ranked according to data type in increasing and decreasing order are ordinal data.\n",
    "\"\"\"\n",
    "print()"
   ]
  },
  {
   "cell_type": "code",
   "execution_count": 9,
   "id": "2828058f-f108-40c6-982b-2510c7caabe8",
   "metadata": {},
   "outputs": [
    {
     "name": "stdout",
     "output_type": "stream",
     "text": [
      "\n"
     ]
    }
   ],
   "source": [
    "# Q8. Which type of plot can be used to display data in terms of range?\n",
    "\n",
    "\"\"\"\n",
    "'Histogram' plot can be used to display data in terms of range of data \n",
    "\"\"\"\n",
    "print()"
   ]
  },
  {
   "cell_type": "code",
   "execution_count": 10,
   "id": "75570eb2-8273-448d-90e6-385a124a3146",
   "metadata": {},
   "outputs": [
    {
     "name": "stdout",
     "output_type": "stream",
     "text": [
      "\n"
     ]
    }
   ],
   "source": [
    "# Q9. Describe the difference between descriptive and inferential statistics. Give an example of each\n",
    "# type of statistics and explain how they are used.\n",
    "\n",
    "\"\"\"\n",
    "Descriptive statistics focus on describing the visible characteristics like numerical data of a dataset of a population or sample datasets.\n",
    "    Example: Average of voting of an area for analysis.\n",
    "\n",
    "Inferential statistics focus on making predictions or generalizations for a conclusion about a larger dataset, based on a sample of those data.\n",
    "    Example: Calculating the votings of small sample data from the area and  analysis the average votings.\n",
    "\"\"\"\n",
    "print()"
   ]
  },
  {
   "cell_type": "code",
   "execution_count": 11,
   "id": "224f92b2-899a-4f67-b922-37c2bbdbcd3d",
   "metadata": {},
   "outputs": [
    {
     "name": "stdout",
     "output_type": "stream",
     "text": [
      "\n"
     ]
    }
   ],
   "source": [
    "# Q10. What are some common measures of central tendency and variability used in statistics? Explain\n",
    "# how each measure can be used to describe a dataset.\n",
    "\n",
    "\"\"\"\n",
    "The three commonly used measures of central tendency and variability used in statistics are the mean, median, and mode. \n",
    "A statistic that tells us how the data values are dispersed or spread out is called the measure of dispersion. \n",
    "A simple measure of dispersion is the range.\n",
    "\n",
    "Mean: mean gives the average of the dataset an average value for all the values in the dataset\n",
    "\n",
    "Median: median gives the middle value of the dataset it arranges the data in ascending order and returns the middle value in it.\n",
    "\n",
    "Mode: mode gives the No. of occurances of the data in the dataset. it returns the numbers with there no. of occurances in the dataset.\n",
    "\"\"\"\n",
    "print()"
   ]
  },
  {
   "cell_type": "code",
   "execution_count": null,
   "id": "e82c0d49-992e-4649-ba37-78999f78d2df",
   "metadata": {},
   "outputs": [],
   "source": []
  }
 ],
 "metadata": {
  "kernelspec": {
   "display_name": "Python 3 (ipykernel)",
   "language": "python",
   "name": "python3"
  },
  "language_info": {
   "codemirror_mode": {
    "name": "ipython",
    "version": 3
   },
   "file_extension": ".py",
   "mimetype": "text/x-python",
   "name": "python",
   "nbconvert_exporter": "python",
   "pygments_lexer": "ipython3",
   "version": "3.10.8"
  }
 },
 "nbformat": 4,
 "nbformat_minor": 5
}
