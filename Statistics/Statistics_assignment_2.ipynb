{
 "cells": [
  {
   "cell_type": "code",
   "execution_count": 6,
   "id": "210acbd8-842f-459f-84d2-974a6c455d2a",
   "metadata": {},
   "outputs": [],
   "source": [
    "import warnings\n",
    "warnings.filterwarnings('ignore')\n",
    "import numpy as np\n",
    "from scipy import stats\n",
    "import seaborn as sns"
   ]
  },
  {
   "cell_type": "code",
   "execution_count": 7,
   "id": "be4274f3-8453-4b8c-86f1-37e375b30aba",
   "metadata": {},
   "outputs": [
    {
     "data": {
      "text/plain": [
       "'\\nthe three measures of central tendancy are 2M\\n1. Mean\\n2. Median\\n3. Mode\\n\\n'"
      ]
     },
     "execution_count": 7,
     "metadata": {},
     "output_type": "execute_result"
    }
   ],
   "source": [
    "# Q1. What are the three measures of central tendency?\n",
    "\"\"\"\n",
    "the three measures of central tendancy are 2M\n",
    "1. Mean\n",
    "2. Median\n",
    "3. Mode\n",
    "\n",
    "\"\"\""
   ]
  },
  {
   "cell_type": "code",
   "execution_count": 8,
   "id": "5ddc34ff-50f2-42f7-ae90-d02b0fc6afbe",
   "metadata": {},
   "outputs": [
    {
     "data": {
      "text/plain": [
       "(4.375, 3.5, ModeResult(mode=array([2]), count=array([2])))"
      ]
     },
     "execution_count": 8,
     "metadata": {},
     "output_type": "execute_result"
    }
   ],
   "source": [
    "# Q2. What is the difference between the mean, median, and mode? How are they used to measure the\n",
    "# central tendency of a dataset?\n",
    "\n",
    "\"\"\"\n",
    "\n",
    "1. Mean: Gives the average value of all the elements. it is summation of all element divided by total number of elements.\n",
    "\n",
    "2. Median : is the middle value of the series or sequence. if the elements are even numbers then the median is mean of middle two elements. if elements are in odd numbers the middle element is the median.\n",
    "\n",
    "3. Mode : is the frequency of the elements present in the sequence. it returns the element with more numbers of occurances.\n",
    "\"\"\"\n",
    "import numpy as np\n",
    "from scipy import stats\n",
    "\n",
    "list1 = [1,2,3,2,4,6,8,9]\n",
    "\n",
    "np.mean(list1), np.median(list1), stats.mode(list1)"
   ]
  },
  {
   "cell_type": "code",
   "execution_count": 9,
   "id": "db1e8d97-2dc4-46af-9e88-735e9048c173",
   "metadata": {},
   "outputs": [
    {
     "name": "stdout",
     "output_type": "stream",
     "text": [
      "Mean of the height data is 177.01875\n",
      "Median of the height data is 177.0\n",
      "Mode of the height data is ModeResult(mode=array([177.]), count=array([3]))\n"
     ]
    }
   ],
   "source": [
    "# Q3. Measure the three measures of central tendency for the given height data:\n",
    "height = [178,177,176,177,178.2,178,175,179,180,175,178.9,176.2,177,172.5,178,176.5]\n",
    "\n",
    "print(f\"Mean of the height data is {np.mean(height)}\")\n",
    "print(f\"Median of the height data is {np.median(height)}\")\n",
    "print(f\"Mode of the height data is {stats.mode(height)}\")"
   ]
  },
  {
   "cell_type": "code",
   "execution_count": 10,
   "id": "49fbc84a-31f7-4c7e-8c17-c77d46d07745",
   "metadata": {},
   "outputs": [
    {
     "name": "stdout",
     "output_type": "stream",
     "text": [
      "Standard deviation of the data is 1.7885814036548633\n"
     ]
    }
   ],
   "source": [
    "# Q4. Find the standard deviation for the given data:\n",
    "data2 = [178,177,176,177,178.2,178,175,179,180,175,178.9,176.2,177,172.5,178,176.5]\n",
    "\n",
    "print(f\"Standard deviation of the data is {np.std(data2)}\")"
   ]
  },
  {
   "cell_type": "code",
   "execution_count": 11,
   "id": "6ae432ff-182f-4eff-811b-5888b8447980",
   "metadata": {},
   "outputs": [
    {
     "name": "stdout",
     "output_type": "stream",
     "text": [
      "Range of data2 is 7.5\n",
      "Variance of data2 is 3.199023437500001\n",
      "Standard Deviation of data2 is 1.7885814036548633\n"
     ]
    }
   ],
   "source": [
    "# Q5. How are measures of dispersion such as range, variance, and standard deviation used to describe\n",
    "# the spread of a dataset? Provide an example.\n",
    "\n",
    "\"\"\"\n",
    "Range function is difference between maximum and the minimum element in the spread dataset \n",
    "\"\"\"\n",
    "print(f\"Range of data2 is {max(data2) - min(data2)}\")\n",
    "\n",
    "\"\"\"\n",
    "Variance is defined as the average of the square deviation from the mean of the given data set.\n",
    "\"\"\"\n",
    "print(f\"Variance of data2 is {np.var(data2)}\")\n",
    "\n",
    "\"\"\"\n",
    "Standard Deviation is the square root of the arithmetic average of the square of the deviations measured from the mean.\n",
    "basically it is the square root of the variance calculated\n",
    "\"\"\"\n",
    "print(f\"Standard Deviation of data2 is {np.std(data2)}\")"
   ]
  },
  {
   "cell_type": "code",
   "execution_count": 12,
   "id": "49b7f370-19ed-4cdf-ad78-d617805dbcf1",
   "metadata": {},
   "outputs": [
    {
     "name": "stdout",
     "output_type": "stream",
     "text": [
      "\n"
     ]
    }
   ],
   "source": [
    "# Q6. What is a Venn diagram?\n",
    "\n",
    "\"\"\"\n",
    "Venn diagram is the is the method to show the relationship using circles between two things of finite group of things.\n",
    "\"\"\"\n",
    "print()"
   ]
  },
  {
   "cell_type": "code",
   "execution_count": 13,
   "id": "8618a7d2-76fb-4172-b982-6568ed1f80d6",
   "metadata": {},
   "outputs": [
    {
     "name": "stdout",
     "output_type": "stream",
     "text": [
      " A intersection B is {2, 6}\n",
      " A union B is {0, 2, 3, 4, 5, 6, 7, 8, 10}\n"
     ]
    }
   ],
   "source": [
    "# Q7. For the two given sets \n",
    "A = (2,3,4,5,6,7)\n",
    "B = (0,2,6,8,10)\n",
    "\n",
    "# (i) A B\n",
    "print(f\" A intersection B is {set(A).intersection(set(B))}\")\n",
    "\n",
    "# (ii) A ⋃ B\n",
    "print(f\" A union B is {set(A).union(set(B))}\")"
   ]
  },
  {
   "cell_type": "code",
   "execution_count": 14,
   "id": "b1bbdbea-bacb-4c89-831a-2eddb8819edd",
   "metadata": {},
   "outputs": [
    {
     "name": "stdout",
     "output_type": "stream",
     "text": [
      "\n"
     ]
    }
   ],
   "source": [
    "# Q8. What do you understand about skewness in data?\n",
    "\n",
    "\"\"\"\n",
    "skewness is the measure of dispersion of the data using the mean, meadian and mode.\n",
    "it depends on the relationship of this  three central tendency objects to identify skewness in the dataset.\n",
    "\n",
    "there are 3 types of skewness:\n",
    "1. No skewness : in this the mean = median = mode. and the data is equaly distributed on the both side\n",
    "\n",
    "2. Right skewed : it is also called positive skewed the bell curve is shifted towards the y axis and hence mean > median > mode.\n",
    "\n",
    "3. Left skewed : it is also called negative skewed the bell curve moves away from the y axis and hence mean < medain < mode.\n",
    "\"\"\"\n",
    "print()"
   ]
  },
  {
   "cell_type": "code",
   "execution_count": 15,
   "id": "009b6754-85e5-494e-a6a2-fe18498687ef",
   "metadata": {},
   "outputs": [
    {
     "name": "stdout",
     "output_type": "stream",
     "text": [
      "\n"
     ]
    }
   ],
   "source": [
    "# Q9. If a data is right skewed then what will be the position of median with respect to mean?\n",
    "\n",
    "\"\"\"\n",
    "If the data is right skewed the position of the median is on the left to the mean.\n",
    "means is shifted towards right side and more data is present on the right part of the graph.\n",
    "and hence\n",
    "mean > median\n",
    "\"\"\"\n",
    "print()"
   ]
  },
  {
   "cell_type": "code",
   "execution_count": 16,
   "id": "b09fbd84-a5b2-47fd-af0b-59ced44785c0",
   "metadata": {},
   "outputs": [
    {
     "name": "stdout",
     "output_type": "stream",
     "text": [
      "\n"
     ]
    }
   ],
   "source": [
    "# Q10. Explain the difference between covariance and correlation. How are these measures used in\n",
    "# statistical analysis?\n",
    "\n",
    "\"\"\"\n",
    "Covariance:\n",
    "1. It indicates the direction of the linear relationship.\n",
    "2. Positive covariance refers to the increase in the value of one variable indicates the increase in the other variable.\n",
    "3. Covariance can be between -infinity to infinity\n",
    "\n",
    "Correlation:\n",
    "1. It indicates the strenght and the direction of the linear relationship.\n",
    "2. Positive correlation coeff close to 1 indicatest the high positive correlation and value close to the -1 indicates the strong negative correlation.\n",
    "3. Correlation can be between -1 and 1.\n",
    "\n",
    "Both can be find the used to find the realtionship between the numerical columns in the dataframe\n",
    "\"\"\"\n",
    "print()"
   ]
  },
  {
   "cell_type": "code",
   "execution_count": 17,
   "id": "b849ba27-442b-411c-8988-34b72b5564fb",
   "metadata": {},
   "outputs": [
    {
     "name": "stdout",
     "output_type": "stream",
     "text": [
      "Sample mean for the sample data 'b' is 5.4\n"
     ]
    }
   ],
   "source": [
    "# Q11. What is the formula for calculating the sample mean? Provide an example calculation for a\n",
    "# dataset.\n",
    "\n",
    "\"\"\"\n",
    "for calculating the sample mean of the dataset is.\n",
    "\n",
    "x̄ = ( Σ xi ) / n\n",
    "\n",
    "x̄ = sample mean\n",
    "xi = all the element in the dataset\n",
    "n = total number of element in the dataset\n",
    "\n",
    "\"\"\"\n",
    "a = [1,2,3,4,5,6,7,8,9,0]\n",
    "b = [4,5,7,2,9]\n",
    "\n",
    "# b is the sample dataset\n",
    "# calculating the mean of the sample data b\n",
    "\n",
    "print(f\"Sample mean for the sample data 'b' is {np.mean(b)}\")"
   ]
  },
  {
   "cell_type": "code",
   "execution_count": 18,
   "id": "9b8f9305-e1b5-49ca-bc98-4230e68a63bf",
   "metadata": {},
   "outputs": [
    {
     "name": "stdout",
     "output_type": "stream",
     "text": [
      "Mean of x is 3.0\n",
      " Median of x is 3.0\n",
      " Mode of x is ModeResult(mode=array([3]), count=array([3]))\n"
     ]
    },
    {
     "data": {
      "image/png": "[encoded data removed]",
      "text/plain": [
       "<Figure size 640x480 with 1 Axes>"
      ]
     },
     "metadata": {},
     "output_type": "display_data"
    }
   ],
   "source": [
    "# Q12. For a normal distribution data what is the relationship between its measure of central tendency?\n",
    "\n",
    "\"\"\"\n",
    "If the data is of normal distribution data is also called Gaussian distribution.\n",
    "as all the elements are equally distributed on the both the side of the bell graph.\n",
    "therefore the central tendency like Mean, Median and Mode are all present at the center fo the bell curve.\n",
    "\"\"\"\n",
    "\n",
    "x = [1,2,2,3,3,3,4,4,5]\n",
    "\n",
    "# for example the above dataset x is equally distributed\n",
    "mean = np.mean(x)\n",
    "median = np.median(x)\n",
    "mode = stats.mode(x)\n",
    "\n",
    "print(f\"Mean of x is {mean}\\n Median of x is {median}\\n Mode of x is {mode}\")\n",
    "\n",
    "sns.histplot(data=x, kde=True);"
   ]
  },
  {
   "cell_type": "code",
   "execution_count": 19,
   "id": "50c7f329-b0cb-426f-ac92-e5ee19ca5ea1",
   "metadata": {},
   "outputs": [
    {
     "name": "stdout",
     "output_type": "stream",
     "text": [
      "\n"
     ]
    }
   ],
   "source": [
    "# Q13. How is covariance different from correlation?\n",
    "\n",
    "\"\"\"\n",
    "Covariance:\n",
    "1. It ranges between -infinite to infinite and correlation ranges from -1 to 1.\n",
    "2. Covariance is when changes in one variable refers to the changes in another variable while \n",
    "    in correlation changes in one variable result in the change in another variable\n",
    "3. Positive covariance refers to the increase in the value of one variable indicates the increase in the other variable.\n",
    "\"\"\"\n",
    "print()"
   ]
  },
  {
   "cell_type": "code",
   "execution_count": 20,
   "id": "ed233169-5830-4ca5-9e9d-7ed2e5e6f283",
   "metadata": {},
   "outputs": [
    {
     "name": "stdout",
     "output_type": "stream",
     "text": [
      "Mean of x is 20.125\n",
      "Median of x is 4.5\n"
     ]
    }
   ],
   "source": [
    "# Q14. How do outliers affect measures of central tendency and dispersion? Provide an example.\n",
    "\n",
    "\"\"\"\n",
    "outlier affects the central tendancy of the dataset while calculating the central tendency of the dataset.\n",
    "If an outlier present in the dataset then the mean of the dataset changes drastically.\n",
    "therfore we can use median intead of mean for calculating central tendency.\n",
    "\"\"\"\n",
    "#Example\n",
    "x = [1,2,3,4,5,6,60,80]\n",
    "# In the above dataset '60' and '90' are the outliers whcih affects the mean of the dataset\n",
    "\n",
    "print(f\"Mean of x is {np.mean(x)}\")\n",
    "\n",
    "# as we can see the mean changes from the center therfore we can manage this calculating median for the central tendancy\n",
    "\n",
    "print(f\"Median of x is {np.median(x)}\")\n",
    "\n",
    "# As we can see by calculating the medain the central tendancy is not been affected."
   ]
  },
  {
   "cell_type": "code",
   "execution_count": null,
   "id": "d9fc8350-8236-4b76-8449-cec5380e02aa",
   "metadata": {},
   "outputs": [],
   "source": []
  }
 ],
 "metadata": {
  "kernelspec": {
   "display_name": "Python 3 (ipykernel)",
   "language": "python",
   "name": "python3"
  },
  "language_info": {
   "codemirror_mode": {
    "name": "ipython",
    "version": 3
   },
   "file_extension": ".py",
   "mimetype": "text/x-python",
   "name": "python",
   "nbconvert_exporter": "python",
   "pygments_lexer": "ipython3",
   "version": "3.10.8"
  }
 },
 "nbformat": 4,
 "nbformat_minor": 5
}
