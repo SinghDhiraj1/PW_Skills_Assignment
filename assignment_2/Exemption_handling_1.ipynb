{
 "cells": [
  {
   "cell_type": "code",
   "execution_count": 2,
   "id": "3cdbe188-4c87-4939-a120-bdf82b2996e6",
   "metadata": {},
   "outputs": [
    {
     "name": "stdout",
     "output_type": "stream",
     "text": [
      "\n"
     ]
    }
   ],
   "source": [
    "# Q1 What are an Excemptions in python? Write the difference between Excemption and Syntax error?\n",
    "\n",
    "\"\"\"\n",
    "Exception is an error occured while running the program.\n",
    "But we can sarpass this error without stopping the code in like syntax error.\n",
    "We Can handle this exceptions by using excemption handling and only trigger the specific type of error by using excemption handling\n",
    "\n",
    "Syntax error are the error cause because of any problem with the code not written according to the python syntax and can stop the runtime of the code.\n",
    "\n",
    "Excemptions are the error passed on the runtime which are not related to the syntax but with the other python errors like input and output of the variable or in function ans etc.\n",
    "\"\"\"\n",
    "print()\n"
   ]
  },
  {
   "cell_type": "code",
   "execution_count": 10,
   "id": "2e06705c-14bb-430e-aa6f-538ccffd5974",
   "metadata": {},
   "outputs": [
    {
     "name": "stdout",
     "output_type": "stream",
     "text": [
      "unsupported operand type(s) for +: 'int' and 'str'\n"
     ]
    }
   ],
   "source": [
    "# Q2 What happens when an excemption is not handled? Explain with an example?\n",
    "\"\"\"\n",
    "If we not handle the exception the code will stop running on the runtime and shows the error where the code is breaked\n",
    "and will show large error message with all the python runtime summary.\n",
    "while are the exception handling it will only print or show the error message because of which the code is beaked and not show irrelavant messages in the terminal\n",
    "\"\"\"\n",
    "# Below code shows the exception in an error format\n",
    "\"\"\"\n",
    "print(34 + \"34\")\n",
    "\"\"\"\n",
    "\n",
    "# Below code only shows the error message \n",
    "try:\n",
    "    print(34 + \"34\")\n",
    "except Exception as e:\n",
    "    print(e)"
   ]
  },
  {
   "cell_type": "code",
   "execution_count": 14,
   "id": "97c7ec58-b8d9-4262-97a5-1dad44b90102",
   "metadata": {},
   "outputs": [
    {
     "name": "stdout",
     "output_type": "stream",
     "text": [
      "[Errno 2] No such file or directory: 'example.txt'\n",
      "File Not Found\n"
     ]
    }
   ],
   "source": [
    "# Q3 Which python statements are used to catch and handle exceptions? Explain with an example.\n",
    "\n",
    "\"\"\"\n",
    "In Python exception is handle using \n",
    "Exception statement and also with the different exceptions messages keywords like 'unsupported operant type', NameError, FileNotFoundError, EOF, etc.\n",
    "\"\"\"\n",
    "try:\n",
    "    with open('example.txt', 'r') as f:\n",
    "        print(f.read)\n",
    "except Exception as e:\n",
    "    print(e)\n",
    "    \n",
    "## Above error can also be showed using follow\n",
    "try:\n",
    "    with open('example2.txt','r') as f:\n",
    "        print(f.read)\n",
    "except FileNotFoundError:\n",
    "    print('File Not Found')"
   ]
  },
  {
   "cell_type": "code",
   "execution_count": 17,
   "id": "883a4c3c-5117-468a-92bc-cf837323f5b2",
   "metadata": {},
   "outputs": [
    {
     "name": "stdout",
     "output_type": "stream",
     "text": [
      "5.0\n",
      "Try block will print without any error\n",
      "If the exception is not triggered then else will also be printed\n",
      "5.0\n"
     ]
    }
   ],
   "source": [
    "# Q4 Explain with an example?\n",
    "\n",
    "## 1. Try and Else\n",
    "try:\n",
    "    print(5/1)\n",
    "    print(\"Try block will print without any error\")\n",
    "except NameError:\n",
    "    print (\"name error\")\n",
    "else:\n",
    "    print(\"If the exception is not triggered then else will also be printed\")\n",
    "    print(5/1)"
   ]
  },
  {
   "cell_type": "code",
   "execution_count": 1,
   "id": "04bf231e-1648-4128-80fc-8a0cdc690a6a",
   "metadata": {},
   "outputs": [
    {
     "name": "stdout",
     "output_type": "stream",
     "text": [
      "try block fill print first\n",
      "finally bloack always print\n"
     ]
    }
   ],
   "source": [
    "## 2. Finally\n",
    "try:\n",
    "    print(\"try block fill print first\")\n",
    "except:\n",
    "    print(\"exept block will not print\")\n",
    "finally:\n",
    "    print(\"finally bloack always print\")"
   ]
  },
  {
   "cell_type": "code",
   "execution_count": 8,
   "id": "a9c47c2c-455f-46f8-967d-d2dbceb3bbe5",
   "metadata": {},
   "outputs": [
    {
     "name": "stdout",
     "output_type": "stream",
     "text": [
      "The above code will raise the error that we have been provided\n"
     ]
    }
   ],
   "source": [
    "## 3. Raise\n",
    "\"\"\"\n",
    "txt = \"try block\"\n",
    "if not type(txt) is int:\n",
    "    raise TypeError(\"Raised this error aiyein\")\n",
    "\"\"\"\n",
    "\n",
    "print('The above code will raise the error that we have been provided')"
   ]
  },
  {
   "cell_type": "code",
   "execution_count": 9,
   "id": "f60d4676-c36d-42f8-b377-856eacaea6f2",
   "metadata": {},
   "outputs": [
    {
     "name": "stdout",
     "output_type": "stream",
     "text": [
      "You faced an Type Error\n"
     ]
    }
   ],
   "source": [
    "# Q5 What are Custom Exceptions in python? Why do we need Custom Exceptions? Explain with an example.\n",
    "\n",
    "\"\"\"\n",
    "Custom Exceptions are to handle the specific type of Errors \n",
    "and can be handled with custom solution in the exception blocks accordingly.\n",
    "\n",
    "It is write practice for the Developers to handle exceptions using the custom exceptions\n",
    "and it is more customizable when only having one exception in the code.\n",
    "\"\"\"\n",
    "\n",
    "try:\n",
    "    a = 'hello'\n",
    "    b = 100\n",
    "    c = a + b\n",
    "    print(c)\n",
    "except TypeError:\n",
    "    print(\"You faced an Type Error\")"
   ]
  },
  {
   "cell_type": "code",
   "execution_count": 10,
   "id": "d7460276-4823-4c9e-a31d-6f5633739d80",
   "metadata": {},
   "outputs": [
    {
     "name": "stdout",
     "output_type": "stream",
     "text": [
      "Caught an exception: This is a custom error message.\n",
      "This block will always execute.\n"
     ]
    }
   ],
   "source": [
    "# Q6 Create a custom exception class. Use this class to handle an exception.\n",
    "\n",
    "class CustomError(Exception):\n",
    "    def __init__(self, message=\"Custom error occurred\"):\n",
    "        self.message = message\n",
    "        super().__init__(self.message)\n",
    "\n",
    "# Example of using the custom exception class\n",
    "try:\n",
    "    # Simulating an error condition\n",
    "    raise CustomError(\"This is a custom error message.\")\n",
    "except CustomError as ce:\n",
    "    print(f\"Caught an exception: {ce}\")\n",
    "else:\n",
    "    print(\"No exception occurred.\")\n",
    "finally:\n",
    "    print(\"This block will always execute.\")"
   ]
  },
  {
   "cell_type": "code",
   "execution_count": null,
   "id": "7eb84633-c163-49bc-aa62-c78569658c45",
   "metadata": {},
   "outputs": [],
   "source": []
  }
 ],
 "metadata": {
  "kernelspec": {
   "display_name": "Python 3 (ipykernel)",
   "language": "python",
   "name": "python3"
  },
  "language_info": {
   "codemirror_mode": {
    "name": "ipython",
    "version": 3
   },
   "file_extension": ".py",
   "mimetype": "text/x-python",
   "name": "python",
   "nbconvert_exporter": "python",
   "pygments_lexer": "ipython3",
   "version": "3.10.8"
  }
 },
 "nbformat": 4,
 "nbformat_minor": 5
}
