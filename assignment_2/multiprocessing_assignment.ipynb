{
 "cells": [
  {
   "cell_type": "markdown",
   "id": "b81a276a-1f6c-40e4-9155-acc8776a5660",
   "metadata": {},
   "source": [
    "# Q1. What is multiprocessing in python? Why is it useful?"
   ]
  },
  {
   "cell_type": "code",
   "execution_count": 1,
   "id": "41ab4e3d-8cb4-4226-88b0-9d3fd970090f",
   "metadata": {},
   "outputs": [
    {
     "name": "stdout",
     "output_type": "stream",
     "text": [
      "\n"
     ]
    }
   ],
   "source": [
    "\"\"\"\n",
    "Multiprocessing in Python is a technique that allows the execution of multiple processes, \n",
    "each with its own memory space and Python interpreter.\n",
    "\n",
    "Multiprocessing helps to achieve parallelism and leverage multiple CPU cores for better performance.\n",
    "\"\"\"\n",
    "print()"
   ]
  },
  {
   "cell_type": "markdown",
   "id": "5708c411-cfb5-4825-bfa8-d59c7ba80bd7",
   "metadata": {},
   "source": [
    "# Q2. What are the differences between multiprocessing and multithreading?"
   ]
  },
  {
   "cell_type": "code",
   "execution_count": 2,
   "id": "3bf0b1c2-67b0-42cc-9aee-2aeab98b9c2e",
   "metadata": {},
   "outputs": [
    {
     "name": "stdout",
     "output_type": "stream",
     "text": [
      "\n"
     ]
    }
   ],
   "source": [
    "\"\"\"\n",
    "1.Multiprocessing uses two or more CPUs to increase computing power, \n",
    "whereas multithreading uses a single process with multiple code segments to increase computing power. \n",
    "2.Multithreading focuses on generating computing threads from a single process, \n",
    "whereas multiprocessing increases computing power by adding CPUs\n",
    "\"\"\"\n",
    "print()"
   ]
  },
  {
   "cell_type": "markdown",
   "id": "d826d355-74fb-40d4-b540-9b02cf8eedeb",
   "metadata": {},
   "source": [
    "# Q3. Write a python code to create a process using the multiprocessing module."
   ]
  },
  {
   "cell_type": "code",
   "execution_count": 2,
   "id": "17834465-91e1-41cf-9cb5-0dc06b2757ec",
   "metadata": {},
   "outputs": [
    {
     "name": "stdout",
     "output_type": "stream",
     "text": [
      "but this will print first\n",
      "this is first functions\n"
     ]
    }
   ],
   "source": [
    "def function1():\n",
    "    print(\"this is first functions\")\n",
    "\n",
    "import multiprocessing\n",
    "if __name__ == '__main__':\n",
    "    m = multiprocessing.Process(target = function1)\n",
    "    print('but this will print first')\n",
    "    m.start()\n",
    "    m.join()"
   ]
  },
  {
   "cell_type": "markdown",
   "id": "585b54de-ab30-4e22-8491-0bc28e288e3f",
   "metadata": {},
   "source": [
    "# Q4. What is a multiprocessing pool in python? Why is it used?"
   ]
  },
  {
   "cell_type": "code",
   "execution_count": 3,
   "id": "930a6f32-1e05-457a-a64f-999abeacb4af",
   "metadata": {},
   "outputs": [
    {
     "name": "stdout",
     "output_type": "stream",
     "text": [
      "\n"
     ]
    }
   ],
   "source": [
    "\"\"\"\n",
    "The Python Multiprocessing Pool provides reusable worker processes in Python. \n",
    "The Pool is a lesser-known class that is a part of the Python standard library. \n",
    "\n",
    "It offers easy-to-use pools of child worker processes and is ideal for parallelizing loops of CPU-bound tasks and for executing tasks asynchronously\n",
    "\"\"\"\n",
    "print()"
   ]
  },
  {
   "cell_type": "markdown",
   "id": "d59c1d33-78ae-4d98-80b5-6943a081691b",
   "metadata": {},
   "source": [
    "# Q5. How can we create a pool of worker processes in python using the multiprocessing module?"
   ]
  },
  {
   "cell_type": "code",
   "execution_count": 7,
   "id": "a45514b6-64d8-47b2-8833-fb1c3698d293",
   "metadata": {},
   "outputs": [
    {
     "name": "stdout",
     "output_type": "stream",
     "text": [
      "[1.0, 2.0, 3.0, 4.0, 5.0, 6.0, 7.0, 8.0, 9.0]\n"
     ]
    }
   ],
   "source": [
    "import multiprocessing\n",
    "import math\n",
    "\n",
    "def squre_root(n):\n",
    "    return math.sqrt(n)\n",
    "\n",
    "if __name__ == '__main__':\n",
    "    with multiprocessing.Pool(processes = 6) as pool:\n",
    "        out = pool.map(squre_root, [1,4,9,16,25,36,49,64,81])\n",
    "        print(out)\n",
    "    "
   ]
  },
  {
   "cell_type": "markdown",
   "id": "c5649a22-b600-4161-a19d-83089687cb26",
   "metadata": {},
   "source": [
    "# Q6. Write a python program to create 4 processes, each process should print a different number using the\n",
    "# multiprocessing module in python."
   ]
  },
  {
   "cell_type": "code",
   "execution_count": null,
   "id": "82d14926-ffa6-479e-a792-4ebd3e0944ba",
   "metadata": {},
   "outputs": [],
   "source": [
    "import multiprocessing\n",
    "\n",
    "def print_number(number):\n",
    "    print(f\"process {multiprocessing.current_process().name} prints number {number}\")\n",
    "    \n",
    "if __name__ == '__main__':\n",
    "    numbers = [1,2,3,4]\n",
    "    processes = []\n",
    "    \n",
    "    for number in numbers:\n",
    "        process = multiprocessing.Process(target = print_number , args = (number,))\n",
    "        processes.append(process)\n",
    "        process.start()\n",
    "    \n",
    "    for pr"
   ]
  }
 ],
 "metadata": {
  "kernelspec": {
   "display_name": "Python 3 (ipykernel)",
   "language": "python",
   "name": "python3"
  },
  "language_info": {
   "codemirror_mode": {
    "name": "ipython",
    "version": 3
   },
   "file_extension": ".py",
   "mimetype": "text/x-python",
   "name": "python",
   "nbconvert_exporter": "python",
   "pygments_lexer": "ipython3",
   "version": "3.10.8"
  }
 },
 "nbformat": 4,
 "nbformat_minor": 5
}
