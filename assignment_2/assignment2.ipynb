{
 "cells": [
  {
   "cell_type": "code",
   "execution_count": 3,
   "id": "9e596320-f6ec-4088-b822-c717015dafd9",
   "metadata": {},
   "outputs": [
    {
     "name": "stdout",
     "output_type": "stream",
     "text": [
      "2 main type of comments are \n",
      "1. Single line comment \n",
      "2. Multiline comment\n",
      "This is Single line comment\n",
      "This are multiline comment\n"
     ]
    },
    {
     "data": {
      "text/plain": [
       "'\\nThis is a comment\\nwritten in\\nmore than just one line\\n'"
      ]
     },
     "execution_count": 3,
     "metadata": {},
     "output_type": "execute_result"
    }
   ],
   "source": [
    "# Q1. How do you comment code in Python? What are the different types of comments?\n",
    "\n",
    "print(\"2 main type of comments are \\n1. Single line comment \\n2. Multiline comment\")\n",
    "print(\"This is Single line comment\") # comment 1\n",
    "print(\"This are multiline comment\") \n",
    "# comment 1\n",
    "# comment 2\n",
    "# comment 3\n",
    "\"\"\"\n",
    "This is a comment\n",
    "written in\n",
    "more than just one line\n",
    "\"\"\""
   ]
  },
  {
   "cell_type": "code",
   "execution_count": 5,
   "id": "339c3893-49bc-4fc9-bd3c-65af4f0ae92b",
   "metadata": {},
   "outputs": [
    {
     "name": "stdout",
     "output_type": "stream",
     "text": [
      "1. Variable is a String, character, and number associated with a piece of information\n",
      "2. Variable is denoted by the '=' symbol, used to assign value to variable\n",
      "3. x=1, in which x is a variable and 1 is the value of the variable assign by =\n"
     ]
    }
   ],
   "source": [
    "# Q2. What are variables in Python? How do you declare and assign values to variables?\n",
    "\n",
    "print(\"1. Variable is a String, character, and number associated with a piece of information\")\n",
    "print(\"2. Variable is denoted by the '=' symbol, used to assign value to variable\")\n",
    "print(\"3. x=1, in which x is a variable and 1 is the value of the variable assign by =\")"
   ]
  },
  {
   "cell_type": "code",
   "execution_count": 9,
   "id": "58ab3d8a-03b2-4a1b-a8fb-282d44189b3f",
   "metadata": {},
   "outputs": [
    {
     "name": "stdout",
     "output_type": "stream",
     "text": [
      "To convert a data type to another in python is done by Explicit type conversion.\n",
      "a 123 is type <class 'int'> converted to b 123.0 type <class 'float'> using type conversion\n",
      "a 1001 is type <class 'str'> converted to b 9 type <class 'int'> using type conversion\n"
     ]
    }
   ],
   "source": [
    "# Q3. How do you convert one data type to another in Python?\n",
    "\n",
    "print(\"To convert a data type to another in python is done by Explicit type conversion.\")\n",
    "a = 123\n",
    "b = float(a)\n",
    "print(f\"a {a} is type {type(a)} converted to b {b} type {type(b)} using type conversion\")\n",
    "\n",
    "a = \"1001\"\n",
    "b = int(a,2)\n",
    "print(f\"a {a} is type {type(a)} converted to b {b} type {type(b)} using type conversion\")\n",
    "\n"
   ]
  },
  {
   "cell_type": "code",
   "execution_count": 14,
   "id": "8657dc0a-fe96-4642-bed2-2505380d197a",
   "metadata": {},
   "outputs": [
    {
     "name": "stdout",
     "output_type": "stream",
     "text": [
      "To run and execute a Python script into command line is by typing 'python' or 'py' \n",
      " into your command line make sure python is installed in your system \n",
      " we can directly run any python code in the command line\n"
     ]
    }
   ],
   "source": [
    "# Q4. How do you write and execute a Python script from the command line?\n",
    "\n",
    "print(\"To run and execute a Python script into command line is by typing 'python' or 'py' \\n into your command line make sure python is installed in your system \\n we can directly run any python code in the command line\")"
   ]
  },
  {
   "cell_type": "code",
   "execution_count": 16,
   "id": "d7b50d93-5b03-4441-8b4e-7a3eace6f1f3",
   "metadata": {},
   "outputs": [
    {
     "name": "stdout",
     "output_type": "stream",
     "text": [
      "[2, 3]\n"
     ]
    }
   ],
   "source": [
    "# Q5. Given a list my_list = [1, 2, 3, 4, 5], write the code to slice the list and obtain the sub-list [2, 3].\n",
    "\n",
    "my_list = [1, 2, 3, 4, 5]\n",
    "sub_list = my_list[1:3]\n",
    "print(sub_list)"
   ]
  },
  {
   "cell_type": "code",
   "execution_count": 19,
   "id": "b0fb58eb-d2e2-4377-ad05-e4b2641b2a4b",
   "metadata": {},
   "outputs": [
    {
     "name": "stdout",
     "output_type": "stream",
     "text": [
      "Python can handle complex numbers and it is associated function using the file 'cmath'. \n",
      " Convert raal numbers to complex number using 'Complex(x,y)'\n",
      "The real part of complex number is : 5.0\n",
      "The imaginary part of complex number is : 3.0\n"
     ]
    }
   ],
   "source": [
    "# Q6. What is a complex number in mathematics, and how is it represented in Python?\n",
    "print(\"Python can handle complex numbers and it is associated function using the file 'cmath'. \\n Convert raal numbers to complex number using 'Complex(x,y)'\")\n",
    "\n",
    "x = 5\n",
    "y = 3\n",
    "\n",
    "z = complex(x,y)\n",
    "\n",
    "print(f\"The real part of complex number is : {z.real}\")\n",
    "print(f\"The imaginary part of complex number is : {z.imag}\")"
   ]
  },
  {
   "cell_type": "code",
   "execution_count": 1,
   "id": "65e4802d-6b88-4c17-a185-b8ecad823e7d",
   "metadata": {},
   "outputs": [
    {
     "name": "stdout",
     "output_type": "stream",
     "text": [
      "Correct way to name and assign is 'age = 25'\n",
      "25\n"
     ]
    }
   ],
   "source": [
    "# Q7. What is the correct way to declare a variable named age and assign the value 25 to it?\n",
    "\n",
    "print(\"Correct way to name and assign is 'age = 25'\")\n",
    "age = 25\n",
    "print(age)"
   ]
  },
  {
   "cell_type": "code",
   "execution_count": 2,
   "id": "af92db24-dbed-4bf8-a3aa-5ac3616d8152",
   "metadata": {},
   "outputs": [
    {
     "name": "stdout",
     "output_type": "stream",
     "text": [
      "price variable value is 9.99 and its datatype is <class 'float'>\n"
     ]
    }
   ],
   "source": [
    "# Q8. Declare a variable named price and assign the value 9.99 to it. What data type does this variable\n",
    "# belong to?\n",
    "\n",
    "price = 9.99\n",
    "print(f\"price variable value is {price} and its datatype is {type(price)}\")"
   ]
  },
  {
   "cell_type": "code",
   "execution_count": 3,
   "id": "7824b99a-f7fb-412f-8c4d-b9c7cdafeedc",
   "metadata": {},
   "outputs": [
    {
     "name": "stdout",
     "output_type": "stream",
     "text": [
      "Dhiraj Randhir Singh\n",
      "['Dhiraj', 'Randhir', 'Singh']\n"
     ]
    }
   ],
   "source": [
    "# Q9. Create a variable named name and assign your full name to it as a string. How would you print the\n",
    "# value of this variable?\n",
    "\n",
    "name = \"Dhiraj Randhir Singh\"\n",
    "print(name)\n",
    "print(name.split(\" \"))\n"
   ]
  },
  {
   "cell_type": "code",
   "execution_count": 7,
   "id": "ea81ed92-2aa8-47ed-9027-22a04e9aa189",
   "metadata": {},
   "outputs": [
    {
     "name": "stdout",
     "output_type": "stream",
     "text": [
      "World\n",
      "World\n"
     ]
    }
   ],
   "source": [
    "# Q10. Given the string \"Hello, World!\", extract the substring \"World\".\n",
    "\n",
    "string = \"Hello, World!\"\n",
    "print(string.split(\" \")[1][0:-1])\n",
    "print(string[7:-1])"
   ]
  },
  {
   "cell_type": "code",
   "execution_count": 8,
   "id": "52d179c3-dcc9-4222-a36f-01798620c62e",
   "metadata": {},
   "outputs": [
    {
     "name": "stdout",
     "output_type": "stream",
     "text": [
      "False\n"
     ]
    }
   ],
   "source": [
    "# Q11. Create a variable named \"is_student\" and assign it a boolean value indicating whether you are\n",
    "# currently a student or not.\n",
    "\n",
    "is_student = False\n",
    "print(is_student)"
   ]
  },
  {
   "cell_type": "code",
   "execution_count": null,
   "id": "747e2010-e70e-4b59-b29f-b6e6bbf5b6f4",
   "metadata": {},
   "outputs": [],
   "source": []
  }
 ],
 "metadata": {
  "kernelspec": {
   "display_name": "Python 3 (ipykernel)",
   "language": "python",
   "name": "python3"
  },
  "language_info": {
   "codemirror_mode": {
    "name": "ipython",
    "version": 3
   },
   "file_extension": ".py",
   "mimetype": "text/x-python",
   "name": "python",
   "nbconvert_exporter": "python",
   "pygments_lexer": "ipython3",
   "version": "3.10.8"
  }
 },
 "nbformat": 4,
 "nbformat_minor": 5
}
