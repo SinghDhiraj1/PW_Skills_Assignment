{
 "cells": [
  {
   "cell_type": "code",
   "execution_count": 2,
   "id": "5896fd51-bbfc-4740-9050-652c7c1f9605",
   "metadata": {},
   "outputs": [
    {
     "name": "stdout",
     "output_type": "stream",
     "text": [
      "\n"
     ]
    }
   ],
   "source": [
    "# Q1. what is multithreading in python? why is it used? Name the module used to handle threads in python used to handle threads in python.\n",
    "\"\"\"\n",
    "Multithreading in python is the process run the single code multiple time in a single instance with multiple input values\n",
    "\n",
    "Multithreading is used to run code by keeping it into a thread and run in a single core and make programe more efficient.\n",
    "\n",
    "Multithreading can be performed with the 'Threading' module and we can handle them using a pythons list comprehension technique to store \n",
    "the threads and run in a loop in a single instance.\n",
    "\"\"\"\n",
    "print()"
   ]
  },
  {
   "cell_type": "code",
   "execution_count": 1,
   "id": "6bce76c6-ef14-46eb-b08e-b60b63e76b6c",
   "metadata": {},
   "outputs": [
    {
     "name": "stdout",
     "output_type": "stream",
     "text": [
      "\n"
     ]
    }
   ],
   "source": [
    "# Q2. why threading module used? write the use of the following functions.\n",
    "\"\"\"\n",
    "threading module is used to run a single code multiple times with different input type and generate different output accordingly in a single core.\n",
    "\"\"\"\n",
    "### 1. activeCount\n",
    "\"\"\"\n",
    "It is an inbuilt function in threading which returns the no. of active thread objects in the instance\n",
    "\"\"\"\n",
    "\n",
    "### 2. currentThread\n",
    "\"\"\"\n",
    "It is a function in the threading which returns the current Thread Object which corresponds to the caller's thread control\n",
    "\"\"\"\n",
    "\n",
    "### 3. enumerate\n",
    "\"\"\"\n",
    "It is a function of threading which returns the list of thread objects which are currently alive. It include daemonic thread, dummy thread object\n",
    "created by currentThread and the main thread. It exclude the threads that are terminated and that are not yet started\n",
    "\"\"\"\n",
    "\n",
    "print()"
   ]
  },
  {
   "cell_type": "code",
   "execution_count": 2,
   "id": "35fbd153-fe80-4542-8f9d-33c5e5dbcb7c",
   "metadata": {},
   "outputs": [
    {
     "name": "stdout",
     "output_type": "stream",
     "text": [
      "\n"
     ]
    }
   ],
   "source": [
    "# Q3. Explain the following functions.\n",
    "\n",
    "### 1. run()\n",
    "\"\"\"\n",
    "The run() method of a thread is where the thread works. In addition to calling other methods,\n",
    "the run() method can also be called from other threads. When a new thread is created, the run() method is not called automatically.\n",
    "\"\"\"\n",
    "\n",
    "### 2. start()\n",
    "\"\"\"\n",
    "The start() method of thread class is used to begin the execution of thread. The result of this method is two threads that are running concurrently: \n",
    "the current thread (which returns from the call to the start method) and the other thread (which executes its run method).\n",
    "\"\"\"\n",
    "\n",
    "### 3. join()\n",
    "\"\"\"\n",
    "The join method allows one thread to wait for the completion of another. \n",
    "If t is a Thread object whose thread is currently executing, \n",
    "t. join(); causes the current thread to pause execution until t 's thread terminates.\n",
    "\"\"\"\n",
    "\n",
    "### 4. isAlive()\n",
    "\"\"\"\n",
    "The is_alive() method in threading module, \n",
    "is described as this: This method returns True just before the run() method starts until just after the run() method terminates.\n",
    "\"\"\"\n",
    "print()"
   ]
  },
  {
   "cell_type": "code",
   "execution_count": 8,
   "id": "1782eb01-e94d-4303-bcd2-52476c1326b8",
   "metadata": {},
   "outputs": [
    {
     "name": "stdout",
     "output_type": "stream",
     "text": [
      "square of 0 is 0\n",
      "square of 1 is 1\n",
      "square of 2 is 4\n",
      "square of 3 is 9\n",
      "square of 4 is 16\n",
      "square of 5 is 25\n",
      "square of 6 is 36\n",
      "square of 7 is 49\n",
      "square of 8 is 64\n",
      "square of 9 is 81\n",
      "Almost Their\n",
      "cube of 0 is 0\n",
      "cube of 1 is 1\n",
      "cube of 2 is 8\n",
      "cube of 3 is 27\n",
      "cube of 4 is 64\n",
      "cube of 5 is 125\n",
      "cube of 6 is 216\n",
      "cube of 7 is 343\n",
      "cube of 8 is 512\n",
      "cube of 9 is 729\n",
      "Done\n"
     ]
    }
   ],
   "source": [
    "# Q4. write a python program to create two threads. Thread one must print the list of squares and thread two must print the list of cubes\n",
    "\n",
    "import threading\n",
    "\n",
    "def square_seq(n):\n",
    "    print(f\"square of {n} is {n**2}\")\n",
    "    \n",
    "def cube_seq(n):\n",
    "    print(f\"cube of {n} is {n**3}\")\n",
    "          \n",
    "thread1 = [threading.Thread(target = square_seq, args = (n,)) for n in range(10)]\n",
    "thread2 = [threading.Thread(target = cube_seq, args = (n,)) for n in range(10)]\n",
    "          \n",
    "        \n",
    "for t1 in thread1:\n",
    "    t1.start()\n",
    "    \n",
    "print(\"Almost Their\")\n",
    "    \n",
    "for t2 in thread2:\n",
    "    t2.start()\n",
    "\n",
    "          \n",
    "print(\"Done\")"
   ]
  },
  {
   "cell_type": "code",
   "execution_count": 9,
   "id": "99da73eb-a47f-4ebe-966e-401d19505844",
   "metadata": {},
   "outputs": [
    {
     "name": "stdout",
     "output_type": "stream",
     "text": [
      "\n"
     ]
    }
   ],
   "source": [
    "# Q5. State advantages and disadvantages of multithreading\n",
    "\n",
    "\"\"\"\n",
    "Advantages of Multithreading\n",
    "    -Enhanced performance by decreased development time\n",
    "    -Simplified and streamlined program coding\n",
    "    -Improvised GUI responsiveness\n",
    "    -Simultaneous and parallelized occurrence of tasks\n",
    "    -Better use of cache storage by utilization of resources\n",
    "    -Decreased cost of maintenance\n",
    "    -Better use of CPU resource\n",
    "\n",
    "Disadvantages of Multithreading\n",
    "    -Complex debugging and testing processes\n",
    "    -Overhead switching of context\n",
    "    -Increased potential for deadlock occurrence\n",
    "    -Increased difficulty level in writing a program\n",
    "    -Unpredictable results\n",
    "\n",
    "\"\"\"\n",
    "print()"
   ]
  },
  {
   "cell_type": "code",
   "execution_count": null,
   "id": "85d9074c-235c-405e-8ca4-e91be67c966d",
   "metadata": {},
   "outputs": [],
   "source": [
    "# Q6. Explain deadlocks and race conditions.\n",
    "\n"
   ]
  }
 ],
 "metadata": {
  "kernelspec": {
   "display_name": "Python 3 (ipykernel)",
   "language": "python",
   "name": "python3"
  },
  "language_info": {
   "codemirror_mode": {
    "name": "ipython",
    "version": 3
   },
   "file_extension": ".py",
   "mimetype": "text/x-python",
   "name": "python",
   "nbconvert_exporter": "python",
   "pygments_lexer": "ipython3",
   "version": "3.10.8"
  }
 },
 "nbformat": 4,
 "nbformat_minor": 5
}
