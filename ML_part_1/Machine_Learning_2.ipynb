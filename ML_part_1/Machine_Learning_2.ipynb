{
 "cells": [
  {
   "cell_type": "markdown",
   "id": "84a1b3e5-7909-45ce-afc2-8c2652a34418",
   "metadata": {},
   "source": [
    "# Q1: Define overfitting and underfitting in machine learning. What are the consequences of each, and how can they be mitigated?"
   ]
  },
  {
   "cell_type": "code",
   "execution_count": 1,
   "id": "7b0b421a-61f7-43b2-8d6d-d6eadc3c22d6",
   "metadata": {},
   "outputs": [
    {
     "name": "stdout",
     "output_type": "stream",
     "text": [
      "\n"
     ]
    }
   ],
   "source": [
    "\"\"\"\n",
    "Overfitting is when the training accuracy of the model is high means it is low baised and the testing accuracy is low means high variance\n",
    "than the model is said to be overfit model.\n",
    "\n",
    "Underfitting is when the training accuracy of the model is low means it is high baised and the testing accuracy is also low menas high variance\n",
    "than the model is said to be underfit model.\n",
    "\n",
    "Consequences: Overfit model is not good in predicting on unseen data because it is baised on the train data means there is too much data for the model to train.\n",
    "and In underfit model the model has not got enough data to train and its baised is high on the data\n",
    "\n",
    "For mitigating the overfitting the model must be done some fine tuning in the parameters and also clean the data if possible or some feature engineering.\n",
    "For mitigating the underfitting of model the model must be done some fine tuning so that the model can understand the data or scaling of the data and should provide more data to train the model\n",
    "\n",
    "\"\"\"\n",
    "print()"
   ]
  },
  {
   "cell_type": "markdown",
   "id": "fddb3f51-aaf0-4a72-b760-49007e385d12",
   "metadata": {},
   "source": [
    "# Q2: How can we reduce overfitting? Explain in brief."
   ]
  },
  {
   "cell_type": "code",
   "execution_count": 1,
   "id": "3c6cfecd-ffb4-4711-8a6d-7cf6cdb856c4",
   "metadata": {},
   "outputs": [
    {
     "name": "stdout",
     "output_type": "stream",
     "text": [
      "\n"
     ]
    }
   ],
   "source": [
    "\"\"\"\n",
    "We can reduce overfitting of the model with following:\n",
    "\n",
    "1. Early stopping: adding early stoping the training stops the training when train accuracy falls while training and \n",
    "model will not train on the noise data\n",
    "\n",
    "2. Pruning: Identifying the important features and eliminating the unimportant features will lead the model to learn only te important features \n",
    "can help in not overfitting the model.\n",
    "\n",
    "3. Regularization: Is the process for optimizing techniques that used to reduce overfitting. method that eliminates the factor that \n",
    "are not important by grading the features and mitigating the less imporatant.\n",
    "\n",
    "4. Ensembling: Is a technique where we train the model on several separate machine learning models that gives the best model for the data using\n",
    "bagging and boosting techniques to find best fit model\n",
    "\n",
    "5. Data augmentation: Is a machine learning technique that changes the sample data slightly every time the model processes it. \n",
    "You can do this by changing the input data in small ways. When done in moderation, \n",
    "data augmentation makes the training sets appear unique to the model and prevents the model from learning their characteristics. \n",
    "\n",
    "\"\"\"\n",
    "print()"
   ]
  },
  {
   "cell_type": "markdown",
   "id": "2a655100-17be-46e5-9a87-05a8050870ec",
   "metadata": {},
   "source": [
    "# Q3: Explain underfitting. List scenarios where underfitting can occur in ML."
   ]
  },
  {
   "cell_type": "code",
   "execution_count": 1,
   "id": "d1e66acd-d749-430e-af5c-eb1ece46b02f",
   "metadata": {},
   "outputs": [
    {
     "name": "stdout",
     "output_type": "stream",
     "text": [
      "\n"
     ]
    }
   ],
   "source": [
    "\"\"\"\n",
    "Underfitting occurs when a model is too simplistic to grasp the underlying patterns in the data. \n",
    "It lacks the complexity needed to adequately represent the relationships present, \n",
    "resulting in poor performance on both the training and new data.\n",
    "\n",
    "It occurs when a model is too simple, which can be a result of a model needing more training time, \n",
    "more input features, or less regularization. Like overfitting, when a model is underfitted, \n",
    "it cannot establish the dominant trend within the data, resulting in training errors and poor performance of the model.\n",
    "\"\"\"\n",
    "print()"
   ]
  },
  {
   "cell_type": "markdown",
   "id": "b5ca0a0c-1e4d-4505-a879-c27d93c8e369",
   "metadata": {},
   "source": [
    "# Q4: Explain the bias-variance tradeoff in machine learning. What is the relationship between bias and variance, and how do they affect model performance?"
   ]
  },
  {
   "cell_type": "code",
   "execution_count": 2,
   "id": "25c309fe-e1e3-44c8-a1cb-e654e5eb3839",
   "metadata": {},
   "outputs": [
    {
     "name": "stdout",
     "output_type": "stream",
     "text": [
      "\n"
     ]
    }
   ],
   "source": [
    "\"\"\"\n",
    "In machine learning we try to minimize one component that is the bias then the other component tends to increase that is variance and vice versa.\n",
    "Finding the right balance between both bias and variance is the key for making an effective and accurate machine learning model this is called bias and variance trandoff.\n",
    "\n",
    "Bias and variance are inversely connected. It is impossible to have an ML model with a low bias and a low variance. \n",
    "When a data engineer modifies the ML algorithm to better fit a given data set, it will lead to low bias—but it will increase variance.\n",
    "\"\"\"\n",
    "print()"
   ]
  },
  {
   "cell_type": "markdown",
   "id": "c106bfcf-cf19-49bf-9549-cc6c921b5875",
   "metadata": {},
   "source": [
    "# Q5: Discuss some common methods for detecting overfitting and underfitting in machine learning models.How can you determine whether your model is overfitting or underfitting?"
   ]
  },
  {
   "cell_type": "code",
   "execution_count": 3,
   "id": "b1788a3d-44eb-482d-af26-7b834fe454f1",
   "metadata": {},
   "outputs": [
    {
     "name": "stdout",
     "output_type": "stream",
     "text": [
      "\n"
     ]
    }
   ],
   "source": [
    "\"\"\"\n",
    "We can determine whether a predictive model is underfitting or overfitting the training data by looking at the prediction error on the training data \n",
    "and the evaluation data. Your model is underfitting the training data when the model performs poorly on the training data.\n",
    "\n",
    "This situation where any given model is performing too well on the training data but the performance drops significantly over the test set is called an overfitting model. \n",
    "On the other hand, if the model is performing poorly over the test and the train set, then we call that an underfitting model.\n",
    "\"\"\"\n",
    "print()"
   ]
  },
  {
   "cell_type": "markdown",
   "id": "252cfeae-24c2-4524-ad03-d9528b2f3f9e",
   "metadata": {},
   "source": [
    "# Q6: Compare and contrast bias and variance in machine learning. What are some examples of high bias and high variance models, and how do they differ in terms of their performance?"
   ]
  },
  {
   "cell_type": "code",
   "execution_count": 4,
   "id": "efd76a37-df4f-4106-b7b5-8ad075aa15be",
   "metadata": {},
   "outputs": [
    {
     "name": "stdout",
     "output_type": "stream",
     "text": [
      "\n"
     ]
    }
   ],
   "source": [
    "\"\"\"\n",
    "Bias creates consistent errors in the ML model, which represents a simpler ML model that is not suitable for a specific requirement. \n",
    "On the other hand, variance creates variance errors that lead to incorrect predictions seeing trends or data points that do not exist.\n",
    "\n",
    "some examples for high variance include decision trees, support vector machines and k-nearest neighbors.\n",
    "\n",
    "Bias occurs in a machine learning model when an algorithm is used but does not fit properly. \n",
    "Variance is the amount of variation the target function estimation will change if different training data is used. \n",
    "It is the difference between the actual values and the predicted values.\n",
    "\"\"\"\n",
    "print()"
   ]
  },
  {
   "cell_type": "markdown",
   "id": "598e3c71-9690-45a2-9b3c-5760f790edcf",
   "metadata": {},
   "source": [
    "# Q7: What is regularization in machine learning, and how can it be used to prevent overfitting? Describe some common regularization techniques and how they work."
   ]
  },
  {
   "cell_type": "code",
   "execution_count": 5,
   "id": "eb82ccfe-a2c9-4d5e-b980-11fd60aaed55",
   "metadata": {},
   "outputs": [
    {
     "name": "stdout",
     "output_type": "stream",
     "text": [
      "\n"
     ]
    }
   ],
   "source": [
    "\"\"\"\n",
    "Regularization is a set of methods for reducing overfitting in machine learning models. Typically, \n",
    "regularization trades a marginal decrease in training accuracy for an increase in generalizability. \n",
    "Regularization encompasses a range of techniques to correct for overfitting in machine learning models.\n",
    "\n",
    "Regularization is a technique used to reduce errors by fitting the function appropriately on the given training set and avoiding overfitting. \n",
    "The commonly used regularization techniques are : \n",
    "Lasso Regularization – L1 Regularization. \n",
    "Ridge Regularization – L2 Regularization.\n",
    "\"\"\"\n",
    "print()"
   ]
  },
  {
   "cell_type": "code",
   "execution_count": null,
   "id": "ed8a8717-2e73-4868-ba86-756a8aacde00",
   "metadata": {},
   "outputs": [],
   "source": []
  }
 ],
 "metadata": {
  "kernelspec": {
   "display_name": "Python 3 (ipykernel)",
   "language": "python",
   "name": "python3"
  },
  "language_info": {
   "codemirror_mode": {
    "name": "ipython",
    "version": 3
   },
   "file_extension": ".py",
   "mimetype": "text/x-python",
   "name": "python",
   "nbconvert_exporter": "python",
   "pygments_lexer": "ipython3",
   "version": "3.10.8"
  }
 },
 "nbformat": 4,
 "nbformat_minor": 5
}
