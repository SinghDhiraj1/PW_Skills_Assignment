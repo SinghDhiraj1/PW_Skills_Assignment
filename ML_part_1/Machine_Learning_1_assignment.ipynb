{
 "cells": [
  {
   "cell_type": "markdown",
   "id": "1dbdc8d9-364d-497d-9971-4d38314dfcd7",
   "metadata": {},
   "source": [
    "# Q1. Explain the following with an example:"
   ]
  },
  {
   "cell_type": "code",
   "execution_count": 1,
   "id": "c7848df9-3777-408b-a4ef-bfac8c502b2f",
   "metadata": {},
   "outputs": [
    {
     "name": "stdout",
     "output_type": "stream",
     "text": [
      "\n"
     ]
    }
   ],
   "source": [
    "\"\"\"\n",
    "1. Artificial Intelligence:\n",
    "Artificial intelligence (AI) refers to the simulation or approximation of human intelligence in machines. \n",
    "The goals of artificial intelligence include computer-enhanced learning, reasoning, and perception.\n",
    "\n",
    "2. Machine Learning:\n",
    "Machine learning is a branch of artificial intelligence (AI) and computer science which focuses on the use of data and \n",
    "algorithms to imitate the way that humans learn, gradually improving its accuracy.\n",
    "\n",
    "3. Deep Learning:\n",
    "Deep learning is a method in artificial intelligence (AI) that teaches computers to process data in a way that is inspired by the human brain. \n",
    "Deep learning models can recognize complex patterns in pictures, text, sounds, and other data to produce accurate insights and predictions.\n",
    "\n",
    "\"\"\"\n",
    "print()"
   ]
  },
  {
   "cell_type": "markdown",
   "id": "b1b9ffe2-bf0c-494f-90b5-eacf560679c5",
   "metadata": {},
   "source": [
    "# Q2. What is supervised learning? List some examples of supervised learning?"
   ]
  },
  {
   "cell_type": "code",
   "execution_count": 2,
   "id": "4b9a9354-dac5-4103-a5af-0cf1afc00d77",
   "metadata": {},
   "outputs": [
    {
     "name": "stdout",
     "output_type": "stream",
     "text": [
      "\n"
     ]
    }
   ],
   "source": [
    "\"\"\"\n",
    "Supervised learning involves training a machine from labeled data. \n",
    "Labeled data consists of examples with the correct answer or classification. \n",
    "The machine learns the relationship between inputs (fruit images) and outputs (fruit labels). \n",
    "The trained machine can then make predictions on new, unlabeled data.\n",
    "\n",
    "some of the examples of supervised learning is:\n",
    "-Linear regression for regression problems.\n",
    "-Random forest for classification and regression problems.\n",
    "-Support vector machines for classification problems.\n",
    "\"\"\"\n",
    "print()"
   ]
  },
  {
   "cell_type": "markdown",
   "id": "77c94ebb-82aa-4fb6-b627-0674f2fa9b48",
   "metadata": {},
   "source": [
    "# Q3. What is unsupervised learning? List some examples of unsupervised learning?"
   ]
  },
  {
   "cell_type": "code",
   "execution_count": 4,
   "id": "c2cfdbf2-cbc4-418d-8597-13d587026867",
   "metadata": {},
   "outputs": [
    {
     "name": "stdout",
     "output_type": "stream",
     "text": [
      "\n"
     ]
    }
   ],
   "source": [
    "\"\"\"\n",
    "Unsupervised learning in artificial intelligence is a type of machine learning that learns from data without human supervision. \n",
    "Unlike supervised learning, unsupervised machine learning models are given unlabeled data and \n",
    "allowed to discover patterns and insights without any explicit guidance or instruction.\n",
    "\n",
    "some of examples of unserpervised leaerning is:\n",
    "-Anomoly Detection\n",
    "-Clusturing\n",
    "-Market Segmentation\n",
    "\"\"\"\n",
    "print()"
   ]
  },
  {
   "cell_type": "markdown",
   "id": "24840acb-41e1-4018-b07f-47f737eb90a2",
   "metadata": {},
   "source": [
    "# Q4. What is the difference between AI, ML, DL and DS?"
   ]
  },
  {
   "cell_type": "code",
   "execution_count": 5,
   "id": "3d0bf4d0-e675-4d12-b6f8-ec2959b257c6",
   "metadata": {},
   "outputs": [
    {
     "name": "stdout",
     "output_type": "stream",
     "text": [
      "\n"
     ]
    }
   ],
   "source": [
    "\"\"\"\n",
    "In summary, \n",
    "AI is the broader field of developing intelligent machines, \n",
    "ML is a subset of AI that involves training algorithms to learn from data, \n",
    "DL is a subset of ML that uses ANNs to model complex patterns in data, and \n",
    "DS is an interdisciplinary field that involves extracting insights from data.\n",
    "\"\"\"\n",
    "print()"
   ]
  },
  {
   "cell_type": "markdown",
   "id": "025bd2d3-0352-4784-b9d0-e4fcc03ae5f2",
   "metadata": {},
   "source": [
    "# Q5. What is main difference between supervised, unsupervised and semi-supervised learning?"
   ]
  },
  {
   "cell_type": "code",
   "execution_count": 6,
   "id": "ef58cd81-5e5d-4379-b551-06369c46336e",
   "metadata": {},
   "outputs": [
    {
     "name": "stdout",
     "output_type": "stream",
     "text": [
      "\n"
     ]
    }
   ],
   "source": [
    "\"\"\"\n",
    "Supervised learning is a problem with labeled data, expecting to develop predictive capability.\n",
    "\n",
    "Unsupervised learning is discovering process, diving into unlabeled data to capture hidden information. \n",
    "\n",
    "Semi-supervised learning is a blend of supervised and unsupervised learning.\n",
    "\n",
    "\"\"\"\n",
    "print()"
   ]
  },
  {
   "cell_type": "markdown",
   "id": "b1d276d2-0a51-436c-ad0d-d60a7e8136a0",
   "metadata": {},
   "source": [
    "# Q6. What is train, test, and validate split? Explain the importance of each term."
   ]
  },
  {
   "cell_type": "code",
   "execution_count": 7,
   "id": "0d1d4964-bae8-4850-96bd-874109b47a98",
   "metadata": {},
   "outputs": [
    {
     "name": "stdout",
     "output_type": "stream",
     "text": [
      "\n"
     ]
    }
   ],
   "source": [
    "\"\"\"\n",
    "train, test and validate split is a technique of spliting the data into three parts \n",
    "which is used for Training, Hyperparameter tuning and Testing the machine learning algorithms.\n",
    "\n",
    "- Train is used for training the machine learning model. \n",
    "- Validate split is used for hyper parameter tuning of the model for increasing the accuracy of model.\n",
    "- Test split is used for testing the model. this data is the data from which model is unaware off.\n",
    "\"\"\"\n",
    "print()"
   ]
  },
  {
   "cell_type": "markdown",
   "id": "d9443c8c-9434-4736-8ab9-cedff5c0760b",
   "metadata": {},
   "source": [
    "# Q7. How can unsupervised learning be used in anomaly detection?"
   ]
  },
  {
   "cell_type": "code",
   "execution_count": 8,
   "id": "12f4d8a2-0264-4249-9f30-7ae7d8eb1665",
   "metadata": {},
   "outputs": [
    {
     "name": "stdout",
     "output_type": "stream",
     "text": [
      "\n"
     ]
    }
   ],
   "source": [
    "\"\"\"\n",
    "Anomaly detection techniques of unsupervised nature assume that normal data points occur considerably more frequently than anomalous data points. \n",
    "This assumption is used to classify data points that occur less frequently as anomalies. \n",
    "Unsupervised techniques assign each data point a score instead of a label.\n",
    "\"\"\"\n",
    "print()"
   ]
  },
  {
   "cell_type": "markdown",
   "id": "8a11f779-a512-40de-91b1-0c39fdb2a8e2",
   "metadata": {},
   "source": [
    "# Q8. List down some commonly used supervised learning algorthm and unsupervised learning algorithm?"
   ]
  },
  {
   "cell_type": "code",
   "execution_count": null,
   "id": "99ed201e-3189-452c-b4c2-1cd261864a04",
   "metadata": {},
   "outputs": [],
   "source": [
    "\"\"\"\n",
    "The most commonly used Supervised Learning algorithms are \n",
    "decision tree, \n",
    "logistic regression, \n",
    "linear regression, \n",
    "support vector machine. \n",
    "\n",
    "The most commonly used Unsupervised Learning algorithms are \n",
    "k-means clustering, \n",
    "hierarchical clustering, \n",
    "apriori algorithm.\n",
    "\"\"\""
   ]
  }
 ],
 "metadata": {
  "kernelspec": {
   "display_name": "Python 3 (ipykernel)",
   "language": "python",
   "name": "python3"
  },
  "language_info": {
   "codemirror_mode": {
    "name": "ipython",
    "version": 3
   },
   "file_extension": ".py",
   "mimetype": "text/x-python",
   "name": "python",
   "nbconvert_exporter": "python",
   "pygments_lexer": "ipython3",
   "version": "3.10.8"
  }
 },
 "nbformat": 4,
 "nbformat_minor": 5
}
